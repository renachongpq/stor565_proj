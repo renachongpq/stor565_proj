{
 "cells": [
  {
   "cell_type": "code",
   "execution_count": 1,
   "metadata": {},
   "outputs": [],
   "source": [
    "import pandas as pd\n",
    "import numpy as np"
   ]
  },
  {
   "cell_type": "code",
   "execution_count": 2,
   "metadata": {},
   "outputs": [],
   "source": [
    "ratings = pd.read_csv(\"../ml-small/ratings.csv\")"
   ]
  },
  {
   "cell_type": "code",
   "execution_count": 38,
   "metadata": {},
   "outputs": [
    {
     "data": {
      "text/plain": [
       "movieId\n",
       "30        3\n",
       "40        2\n",
       "49        1\n",
       "53        2\n",
       "54        3\n",
       "         ..\n",
       "193581    1\n",
       "193583    1\n",
       "193585    1\n",
       "193587    1\n",
       "193609    1\n",
       "Length: 5544, dtype: int64"
      ]
     },
     "execution_count": 38,
     "metadata": {},
     "output_type": "execute_result"
    }
   ],
   "source": [
    "movie_rating_count = ratings.groupby(\"movieId\").size()\n",
    "movie_rating_count[movie_rating_count.lt(4)]"
   ]
  },
  {
   "cell_type": "code",
   "execution_count": 32,
   "metadata": {},
   "outputs": [
    {
     "data": {
      "text/plain": [
       "<AxesSubplot:ylabel='Frequency'>"
      ]
     },
     "execution_count": 32,
     "metadata": {},
     "output_type": "execute_result"
    },
    {
     "data": {
      "image/png": "[encoded data removed]",
      "text/plain": [
       "<Figure size 640x480 with 1 Axes>"
      ]
     },
     "metadata": {},
     "output_type": "display_data"
    }
   ],
   "source": [
    "movie_rating_count.plot(kind=\"hist\", xlim=(0, 350))"
   ]
  },
  {
   "cell_type": "code",
   "execution_count": 55,
   "metadata": {},
   "outputs": [],
   "source": [
    "remove_movie_id = movie_rating_count[movie_rating_count.lt(4)].index.values.tolist()"
   ]
  },
  {
   "cell_type": "code",
   "execution_count": 56,
   "metadata": {},
   "outputs": [],
   "source": [
    "new_ratings = ratings[~ratings.movieId.isin(remove_movie_id)]"
   ]
  },
  {
   "cell_type": "code",
   "execution_count": 57,
   "metadata": {},
   "outputs": [],
   "source": [
    "movieId = sorted(list(set(new_ratings[\"movieId\"])))\n",
    "# movieId_subset = movieId[:5000]\n",
    "# movieId_max = max(movieId_subset)\n",
    "# ratings_subset = ratings[ratings[\"movieId\"] <= movieId_max]"
   ]
  },
  {
   "cell_type": "code",
   "execution_count": 3,
   "metadata": {},
   "outputs": [],
   "source": [
    "# user_data = list(ratings[\"userId\"])\n",
    "# ratings_data = list(ratings[\"rating\"])\n",
    "# item_data = list(ratings[\"movieId\"])\n",
    "\n",
    "# from scipy.sparse import csr_matrix\n",
    "# ratings_matrix = csr_matrix((ratings_data, (user_data, item_data)))"
   ]
  },
  {
   "attachments": {},
   "cell_type": "markdown",
   "metadata": {},
   "source": [
    "### Split to Train and Test Data"
   ]
  },
  {
   "cell_type": "code",
   "execution_count": 58,
   "metadata": {},
   "outputs": [],
   "source": [
    "# split data into train and test by userId\n",
    "from sklearn.model_selection import train_test_split\n",
    "train, test = train_test_split(new_ratings, test_size=0.2, random_state=3, stratify=new_ratings[\"movieId\"])"
   ]
  },
  {
   "cell_type": "code",
   "execution_count": 66,
   "metadata": {},
   "outputs": [
    {
     "data": {
      "text/plain": [
       "3"
      ]
     },
     "execution_count": 66,
     "metadata": {},
     "output_type": "execute_result"
    }
   ],
   "source": [
    "train_rating_count = train.groupby(\"movieId\").size()\n",
    "train_rating_count.min()"
   ]
  },
  {
   "cell_type": "code",
   "execution_count": 59,
   "metadata": {},
   "outputs": [],
   "source": [
    "from scipy.sparse import csr_matrix\n",
    "\n",
    "train_user_data = list(train[\"userId\"])\n",
    "train_ratings_data = list(train[\"rating\"])\n",
    "train_item_data = list(train[\"movieId\"])\n",
    "train_matrix = csr_matrix((train_ratings_data, (train_user_data, train_item_data)))\n",
    "\n",
    "test_user_data = list(test[\"userId\"])\n",
    "test_ratings_data = list(test[\"rating\"])\n",
    "test_item_data = list(test[\"movieId\"])\n",
    "test_matrix = csr_matrix((test_ratings_data, (test_user_data, test_item_data)))"
   ]
  },
  {
   "cell_type": "code",
   "execution_count": 62,
   "metadata": {},
   "outputs": [],
   "source": [
    "train_movieId = sorted(list(set(train_item_data)))\n",
    "test_movieId = sorted(list(set(test_item_data)))"
   ]
  },
  {
   "cell_type": "code",
   "execution_count": 61,
   "metadata": {},
   "outputs": [],
   "source": [
    "# for i in movieId:\n",
    "#     if i not in train_movieId:\n",
    "#         print(i)\n",
    "# i = 90\n",
    "# train_movieId[train_movieId.index(i) + 1]\n",
    "\n",
    "# print(train_movieId)"
   ]
  },
  {
   "attachments": {},
   "cell_type": "markdown",
   "metadata": {},
   "source": [
    "### Cosine Similarity Computation"
   ]
  },
  {
   "cell_type": "code",
   "execution_count": 4,
   "metadata": {},
   "outputs": [
    {
     "data": {
      "application/vnd.jupyter.widget-view+json": {
       "model_id": "01965a439bd14c85945c82bd527c1eae",
       "version_major": 2,
       "version_minor": 0
      },
      "text/plain": [
       "1st loop:   0%|          | 0/9724 [00:00<?, ?it/s]"
      ]
     },
     "metadata": {},
     "output_type": "display_data"
    }
   ],
   "source": [
    "# cosine_sim_values = pd.DataFrame(np.nan, columns=[\"item1\", \"item2\", \"cosine_similarity\"])\n",
    "from sklearn.metrics.pairwise import cosine_similarity\n",
    "from tqdm.auto import trange\n",
    "\n",
    "cosine_sim_values = []\n",
    "# movieId = sorted(list(set(ratings[\"movieId\"])))\n",
    "\n",
    "for item1_index in trange(len(train_movieId), desc=\"1st loop\"):\n",
    "    i = train_movieId[item1_index]\n",
    "    for item2_index in range(item1_index + 1, len(train_movieId)):\n",
    "        j = train_movieId[item2_index]\n",
    "        target = train_matrix[:, [i, j]]\n",
    "        df = pd.DataFrame(target.toarray(), columns=[\"col1\", \"col2\"])\n",
    "        df = df.replace(0, np.nan)\n",
    "        df = df[~df.isnull().any(axis=1)]\n",
    "        if df.shape[0] >= 5:\n",
    "            cos_sim = cosine_similarity(df[\"col1\"].values.reshape(1, -1), df[\"col2\"].values.reshape(1, -1))\n",
    "            dict = {\"item1\": i, \"item2\": j, \"cosine_similarity\": cos_sim[0][0]}\n",
    "            cosine_sim_values.append(dict)"
   ]
  },
  {
   "cell_type": "code",
   "execution_count": 5,
   "metadata": {},
   "outputs": [
    {
     "data": {
      "text/html": [
       "<div>\n",
       "<style scoped>\n",
       "    .dataframe tbody tr th:only-of-type {\n",
       "        vertical-align: middle;\n",
       "    }\n",
       "\n",
       "    .dataframe tbody tr th {\n",
       "        vertical-align: top;\n",
       "    }\n",
       "\n",
       "    .dataframe thead th {\n",
       "        text-align: right;\n",
       "    }\n",
       "</style>\n",
       "<table border=\"1\" class=\"dataframe\">\n",
       "  <thead>\n",
       "    <tr style=\"text-align: right;\">\n",
       "      <th></th>\n",
       "      <th>item1</th>\n",
       "      <th>item2</th>\n",
       "      <th>cosine_similarity</th>\n",
       "    </tr>\n",
       "  </thead>\n",
       "  <tbody>\n",
       "    <tr>\n",
       "      <th>0</th>\n",
       "      <td>1</td>\n",
       "      <td>2</td>\n",
       "      <td>0.964464</td>\n",
       "    </tr>\n",
       "    <tr>\n",
       "      <th>1</th>\n",
       "      <td>1</td>\n",
       "      <td>3</td>\n",
       "      <td>0.971541</td>\n",
       "    </tr>\n",
       "    <tr>\n",
       "      <th>2</th>\n",
       "      <td>1</td>\n",
       "      <td>5</td>\n",
       "      <td>0.955044</td>\n",
       "    </tr>\n",
       "    <tr>\n",
       "      <th>3</th>\n",
       "      <td>1</td>\n",
       "      <td>6</td>\n",
       "      <td>0.966239</td>\n",
       "    </tr>\n",
       "    <tr>\n",
       "      <th>4</th>\n",
       "      <td>1</td>\n",
       "      <td>7</td>\n",
       "      <td>0.944239</td>\n",
       "    </tr>\n",
       "    <tr>\n",
       "      <th>...</th>\n",
       "      <td>...</td>\n",
       "      <td>...</td>\n",
       "      <td>...</td>\n",
       "    </tr>\n",
       "    <tr>\n",
       "      <th>1293958</th>\n",
       "      <td>176371</td>\n",
       "      <td>187593</td>\n",
       "      <td>0.968226</td>\n",
       "    </tr>\n",
       "    <tr>\n",
       "      <th>1293959</th>\n",
       "      <td>177765</td>\n",
       "      <td>179819</td>\n",
       "      <td>0.953748</td>\n",
       "    </tr>\n",
       "    <tr>\n",
       "      <th>1293960</th>\n",
       "      <td>177765</td>\n",
       "      <td>187593</td>\n",
       "      <td>0.944283</td>\n",
       "    </tr>\n",
       "    <tr>\n",
       "      <th>1293961</th>\n",
       "      <td>179819</td>\n",
       "      <td>187593</td>\n",
       "      <td>0.936013</td>\n",
       "    </tr>\n",
       "    <tr>\n",
       "      <th>1293962</th>\n",
       "      <td>179819</td>\n",
       "      <td>187595</td>\n",
       "      <td>0.902720</td>\n",
       "    </tr>\n",
       "  </tbody>\n",
       "</table>\n",
       "<p>1293963 rows × 3 columns</p>\n",
       "</div>"
      ],
      "text/plain": [
       "          item1   item2  cosine_similarity\n",
       "0             1       2           0.964464\n",
       "1             1       3           0.971541\n",
       "2             1       5           0.955044\n",
       "3             1       6           0.966239\n",
       "4             1       7           0.944239\n",
       "...         ...     ...                ...\n",
       "1293958  176371  187593           0.968226\n",
       "1293959  177765  179819           0.953748\n",
       "1293960  177765  187593           0.944283\n",
       "1293961  179819  187593           0.936013\n",
       "1293962  179819  187595           0.902720\n",
       "\n",
       "[1293963 rows x 3 columns]"
      ]
     },
     "execution_count": 5,
     "metadata": {},
     "output_type": "execute_result"
    }
   ],
   "source": [
    "cosine_sim_values = pd.DataFrame(cosine_sim_values)\n",
    "cosine_sim_values"
   ]
  },
  {
   "cell_type": "code",
   "execution_count": 12,
   "metadata": {},
   "outputs": [
    {
     "data": {
      "text/plain": [
       "<AxesSubplot:ylabel='Density'>"
      ]
     },
     "execution_count": 12,
     "metadata": {},
     "output_type": "execute_result"
    },
    {
     "data": {
      "image/png": "[encoded data removed]",
      "text/plain": [
       "<Figure size 640x480 with 1 Axes>"
      ]
     },
     "metadata": {},
     "output_type": "display_data"
    }
   ],
   "source": [
    "cosine_sim_values[\"cosine_similarity\"].plot(kind=\"kde\")"
   ]
  },
  {
   "cell_type": "code",
   "execution_count": 18,
   "metadata": {},
   "outputs": [],
   "source": [
    "cosine_sim_values.to_csv(\"train_cosine_similarity.csv\")"
   ]
  },
  {
   "cell_type": "code",
   "execution_count": null,
   "metadata": {},
   "outputs": [],
   "source": [
    "# target = train_matrix[:, [1, 1740]]\n",
    "# df = pd.DataFrame(target.toarray(), columns=[\"col1\", \"col2\"])\n",
    "# df = df.replace(0, np.nan)\n",
    "# df = df[~df.isnull().any(axis=1)]\n",
    "# df.shape[0]\n",
    "# if df.shape[0] >= 5:\n",
    "#     cos_sim = cosine_similarity(df[\"col1\"].values.reshape(1, -1), df[\"col2\"].values.reshape(1, -1))\n",
    "#     print(\"run\")\n",
    "# df.shape[0] < 5"
   ]
  },
  {
   "attachments": {},
   "cell_type": "markdown",
   "metadata": {},
   "source": [
    "### Correlation-based Similarity"
   ]
  },
  {
   "cell_type": "code",
   "execution_count": 68,
   "metadata": {},
   "outputs": [
    {
     "data": {
      "application/vnd.jupyter.widget-view+json": {
       "model_id": "c566b63b742543338715121778f1540a",
       "version_major": 2,
       "version_minor": 0
      },
      "text/plain": [
       "1st loop:   0%|          | 0/4180 [00:00<?, ?it/s]"
      ]
     },
     "metadata": {},
     "output_type": "display_data"
    },
    {
     "data": {
      "text/plain": [
       "0.2810163234492251"
      ]
     },
     "execution_count": 68,
     "metadata": {},
     "output_type": "execute_result"
    }
   ],
   "source": [
    "from sklearn.metrics import pairwise_distances\n",
    "from tqdm.auto import trange\n",
    "\n",
    "corr_sim_values = []\n",
    "# movieId = sorted(list(set(ratings[\"movieId\"])))\n",
    "\n",
    "for item1_index in trange(len(train_movieId), desc=\"1st loop\"):\n",
    "    i = train_movieId[item1_index]\n",
    "    for item2_index in range(item1_index + 1, len(train_movieId)):\n",
    "        j = train_movieId[item2_index]\n",
    "        target = train_matrix[:, [i, j]]\n",
    "        df = pd.DataFrame(target.toarray(), columns=[\"col1\", \"col2\"])\n",
    "        df = df.replace(0, np.nan)\n",
    "        df = df[~df.isnull().any(axis=1)]\n",
    "        correlation = df[\"col1\"].corr(df[\"col2\"])\n",
    "        dict = {\"item1\": i, \"item2\": j, \"correlation\": correlation}\n",
    "        corr_sim_values.append(dict)"
   ]
  },
  {
   "cell_type": "code",
   "execution_count": null,
   "metadata": {},
   "outputs": [],
   "source": [
    "corr_sim_values = pd.DataFrame(corr_sim_values)\n",
    "corr_sim_values"
   ]
  },
  {
   "cell_type": "code",
   "execution_count": null,
   "metadata": {},
   "outputs": [],
   "source": [
    "corr_sim_values[\"correlation\"].plot(kind=\"kde\")"
   ]
  },
  {
   "cell_type": "code",
   "execution_count": null,
   "metadata": {},
   "outputs": [],
   "source": [
    "corr_sim_values.to_csv(\"train_correlation_similarity.csv\")"
   ]
  },
  {
   "attachments": {},
   "cell_type": "markdown",
   "metadata": {},
   "source": [
    "### Adjusted-Cosine Similarity"
   ]
  },
  {
   "cell_type": "code",
   "execution_count": 96,
   "metadata": {},
   "outputs": [
    {
     "data": {
      "application/vnd.jupyter.widget-view+json": {
       "model_id": "f81cc3422bf146ae9714f3bd8863678e",
       "version_major": 2,
       "version_minor": 0
      },
      "text/plain": [
       "1st loop:   0%|          | 0/4180 [00:00<?, ?it/s]"
      ]
     },
     "metadata": {},
     "output_type": "display_data"
    },
    {
     "data": {
      "text/plain": [
       "0.14680272470588282"
      ]
     },
     "execution_count": 96,
     "metadata": {},
     "output_type": "execute_result"
    }
   ],
   "source": [
    "from tqdm.auto import trange\n",
    "from math import sqrt\n",
    "\n",
    "adj_cosine_sim_values = []\n",
    "# movieId = sorted(list(set(ratings[\"movieId\"])))\n",
    "\n",
    "for item1_index in trange(len(train_movieId), desc=\"1st loop\"):\n",
    "    i = train_movieId[item1_index]\n",
    "    for item2_index in range(item1_index + 1, len(train_movieId)):\n",
    "        j = train_movieId[item2_index]\n",
    "        target = train_matrix[:, [i, j]]\n",
    "        df = pd.DataFrame(target.toarray(), columns=[\"col1\", \"col2\"])\n",
    "        df = df.replace(0, np.nan)\n",
    "        df = df[~df.isnull().any(axis=1)]\n",
    "        df_userId = df.index.tolist()\n",
    "        df_user_ratings = train[train[\"userId\"].isin(df_userId)]\n",
    "        avg_user_ratings = df_user_ratings.groupby([\"userId\"]).mean()[\"rating\"]\n",
    "        df_sub_avg = df.sub(avg_user_ratings, axis=\"index\") # subtract user average\n",
    "        adj_cos = (df_sub_avg[\"col1\"]*df_sub_avg[\"col2\"]).sum()/(sqrt((df_sub_avg[\"col1\"]**2).sum())*sqrt((df_sub_avg[\"col2\"]**2).sum()))\n",
    "        dict = {\"item1\": i, \"item2\": j, \"adjusted_cosine_similarity\": adj_cos}\n",
    "        adj_cosine_sim_values.append(dict)"
   ]
  },
  {
   "cell_type": "code",
   "execution_count": null,
   "metadata": {},
   "outputs": [],
   "source": [
    "adj_cosine_sim_values = pd.DataFrame(adj_cosine_sim_values)\n",
    "adj_cosine_sim_values"
   ]
  },
  {
   "cell_type": "code",
   "execution_count": null,
   "metadata": {},
   "outputs": [],
   "source": [
    "adj_cosine_sim_values[\"adjusted_cosine_similarity\"].plot(kind=\"kde\")"
   ]
  },
  {
   "cell_type": "code",
   "execution_count": null,
   "metadata": {},
   "outputs": [],
   "source": [
    "adj_cosine_sim_values.to_csv(\"train_adjusted_cosine_similarity.csv\")"
   ]
  },
  {
   "attachments": {},
   "cell_type": "markdown",
   "metadata": {},
   "source": [
    "## Try (ignore this section)"
   ]
  },
  {
   "cell_type": "code",
   "execution_count": null,
   "metadata": {},
   "outputs": [],
   "source": [
    "# without zero row and col since userId and movieId starts from 1\n",
    "from scipy.sparse import csr_matrix\n",
    "n_users = ratings.userId.max()\n",
    "n_movies = ratings.movieId.max()\n",
    "ratings_data = ratings.rating\n",
    "user_data = ratings.userId\n",
    "item_data = ratings.movieId\n",
    "adj_matrix = csr_matrix((ratings_data, (user_data - 1, item_data - 1)), shape = (n_users, n_movies))\n",
    "adj_matrix.shape"
   ]
  },
  {
   "cell_type": "code",
   "execution_count": null,
   "metadata": {},
   "outputs": [],
   "source": [
    "n_users = ratings.userId.unique().shape[0]\n",
    "n_items = ratings.movieId.unique().shape[0]"
   ]
  },
  {
   "cell_type": "code",
   "execution_count": null,
   "metadata": {},
   "outputs": [],
   "source": [
    "# change ratings to binary because of sparse dataset\n",
    "# 0 if rating <= 2.5, 1 if rating > 2.5\n",
    "# ratings[\"rating\"] = ratings[\"rating\"].gt(2.5).astype(\"int\")"
   ]
  },
  {
   "cell_type": "code",
   "execution_count": 17,
   "metadata": {},
   "outputs": [
    {
     "data": {
      "text/plain": [
       "Series([], dtype: int64)"
      ]
     },
     "execution_count": 17,
     "metadata": {},
     "output_type": "execute_result"
    }
   ],
   "source": [
    "user_rating_count = ratings.groupby(\"userId\").size()\n",
    "user_rating_count[user_rating_count.lt(20)]"
   ]
  },
  {
   "cell_type": "code",
   "execution_count": null,
   "metadata": {},
   "outputs": [],
   "source": [
    "movie_rating_count"
   ]
  },
  {
   "cell_type": "code",
   "execution_count": null,
   "metadata": {},
   "outputs": [],
   "source": [
    "remove_movie_id"
   ]
  },
  {
   "cell_type": "code",
   "execution_count": null,
   "metadata": {},
   "outputs": [],
   "source": [
    "new_ratings"
   ]
  },
  {
   "cell_type": "code",
   "execution_count": null,
   "metadata": {},
   "outputs": [],
   "source": []
  }
 ],
 "metadata": {
  "kernelspec": {
   "display_name": "Python 3",
   "language": "python",
   "name": "python3"
  },
  "language_info": {
   "codemirror_mode": {
    "name": "ipython",
    "version": 3
   },
   "file_extension": ".py",
   "mimetype": "text/x-python",
   "name": "python",
   "nbconvert_exporter": "python",
   "pygments_lexer": "ipython3",
   "version": "3.10.6"
  },
  "orig_nbformat": 4
 },
 "nbformat": 4,
 "nbformat_minor": 2
}
