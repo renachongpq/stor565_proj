{
 "cells": [
  {
   "cell_type": "code",
   "execution_count": 1,
   "metadata": {},
   "outputs": [],
   "source": [
    "import pandas as pd\n",
    "import numpy as np"
   ]
  },
  {
   "cell_type": "code",
   "execution_count": 2,
   "metadata": {},
   "outputs": [],
   "source": [
    "ratings = pd.read_csv(\"../../ml-small/ratings.csv\")"
   ]
  },
  {
   "cell_type": "code",
   "execution_count": 3,
   "metadata": {},
   "outputs": [
    {
     "data": {
      "text/plain": [
       "movieId\n",
       "30        3\n",
       "40        2\n",
       "49        1\n",
       "53        2\n",
       "54        3\n",
       "         ..\n",
       "193581    1\n",
       "193583    1\n",
       "193585    1\n",
       "193587    1\n",
       "193609    1\n",
       "Length: 5544, dtype: int64"
      ]
     },
     "execution_count": 3,
     "metadata": {},
     "output_type": "execute_result"
    }
   ],
   "source": [
    "movie_rating_count = ratings.groupby(\"movieId\").size()\n",
    "movie_rating_count[movie_rating_count.lt(4)]"
   ]
  },
  {
   "cell_type": "code",
   "execution_count": 4,
   "metadata": {},
   "outputs": [
    {
     "data": {
      "text/plain": [
       "<AxesSubplot:ylabel='Frequency'>"
      ]
     },
     "execution_count": 4,
     "metadata": {},
     "output_type": "execute_result"
    },
    {
     "data": {
      "image/png": "[encoded data removed]",
      "text/plain": [
       "<Figure size 640x480 with 1 Axes>"
      ]
     },
     "metadata": {},
     "output_type": "display_data"
    }
   ],
   "source": [
    "movie_rating_count.plot(kind=\"hist\", xlim=(0, 350))"
   ]
  },
  {
   "cell_type": "code",
   "execution_count": 5,
   "metadata": {},
   "outputs": [],
   "source": [
    "remove_movie_id = movie_rating_count[movie_rating_count.lt(4)].index.values.tolist()"
   ]
  },
  {
   "cell_type": "code",
   "execution_count": 6,
   "metadata": {},
   "outputs": [],
   "source": [
    "new_ratings = ratings[~ratings.movieId.isin(remove_movie_id)]"
   ]
  },
  {
   "cell_type": "code",
   "execution_count": 7,
   "metadata": {},
   "outputs": [],
   "source": [
    "movieId = sorted(list(set(new_ratings[\"movieId\"])))\n",
    "# movieId_subset = movieId[:5000]\n",
    "# movieId_max = max(movieId_subset)\n",
    "# ratings_subset = ratings[ratings[\"movieId\"] <= movieId_max]"
   ]
  },
  {
   "cell_type": "code",
   "execution_count": null,
   "metadata": {},
   "outputs": [],
   "source": [
    "# user_data = list(ratings[\"userId\"])\n",
    "# ratings_data = list(ratings[\"rating\"])\n",
    "# item_data = list(ratings[\"movieId\"])\n",
    "\n",
    "# from scipy.sparse import csr_matrix\n",
    "# ratings_matrix = csr_matrix((ratings_data, (user_data, item_data)))"
   ]
  },
  {
   "attachments": {},
   "cell_type": "markdown",
   "metadata": {},
   "source": [
    "### Split to Train and Test Data"
   ]
  },
  {
   "cell_type": "code",
   "execution_count": 8,
   "metadata": {},
   "outputs": [],
   "source": [
    "# split data into train and test by userId\n",
    "from sklearn.model_selection import train_test_split\n",
    "train, test = train_test_split(new_ratings, test_size=0.2, random_state=3, stratify=new_ratings[\"movieId\"])"
   ]
  },
  {
   "cell_type": "code",
   "execution_count": 9,
   "metadata": {},
   "outputs": [
    {
     "data": {
      "text/plain": [
       "3"
      ]
     },
     "execution_count": 9,
     "metadata": {},
     "output_type": "execute_result"
    }
   ],
   "source": [
    "train_rating_count = train.groupby(\"movieId\").size()\n",
    "train_rating_count.min()"
   ]
  },
  {
   "cell_type": "code",
   "execution_count": 10,
   "metadata": {},
   "outputs": [],
   "source": [
    "from scipy.sparse import csr_matrix\n",
    "\n",
    "train_user_data = list(train[\"userId\"])\n",
    "train_ratings_data = list(train[\"rating\"])\n",
    "train_item_data = list(train[\"movieId\"])\n",
    "train_matrix = csr_matrix((train_ratings_data, (train_user_data, train_item_data)))\n",
    "\n",
    "test_user_data = list(test[\"userId\"])\n",
    "test_ratings_data = list(test[\"rating\"])\n",
    "test_item_data = list(test[\"movieId\"])\n",
    "test_matrix = csr_matrix((test_ratings_data, (test_user_data, test_item_data)))"
   ]
  },
  {
   "cell_type": "code",
   "execution_count": 11,
   "metadata": {},
   "outputs": [],
   "source": [
    "train_movieId = sorted(list(set(train_item_data)))\n",
    "test_movieId = sorted(list(set(test_item_data)))"
   ]
  },
  {
   "cell_type": "code",
   "execution_count": null,
   "metadata": {},
   "outputs": [],
   "source": [
    "# for i in movieId:\n",
    "#     if i not in train_movieId:\n",
    "#         print(i)\n",
    "# i = 90\n",
    "# train_movieId[train_movieId.index(i) + 1]\n",
    "\n",
    "# print(train_movieId)"
   ]
  },
  {
   "attachments": {},
   "cell_type": "markdown",
   "metadata": {},
   "source": [
    "### Cosine Similarity Computation"
   ]
  },
  {
   "cell_type": "code",
   "execution_count": null,
   "metadata": {},
   "outputs": [],
   "source": [
    "# cosine_sim_values = pd.DataFrame(np.nan, columns=[\"item1\", \"item2\", \"cosine_similarity\"])\n",
    "from sklearn.metrics.pairwise import cosine_similarity\n",
    "from tqdm.auto import trange\n",
    "\n",
    "cosine_sim_values = []\n",
    "# movieId = sorted(list(set(ratings[\"movieId\"])))\n",
    "\n",
    "for item1_index in trange(len(train_movieId), desc=\"1st loop\"):\n",
    "    i = train_movieId[item1_index]\n",
    "    for item2_index in range(item1_index + 1, len(train_movieId)):\n",
    "        j = train_movieId[item2_index]\n",
    "        target = train_matrix[:, [i, j]]\n",
    "        df = pd.DataFrame(target.toarray(), columns=[\"col1\", \"col2\"])\n",
    "        df = df.replace(0, np.nan)\n",
    "        df = df[~df.isnull().any(axis=1)]\n",
    "        if df.shape[0] > 2:\n",
    "            cos_sim = cosine_similarity(df[\"col1\"].values.reshape(1, -1), df[\"col2\"].values.reshape(1, -1))\n",
    "            dict = {\"item1\": i, \"item2\": j, \"cosine_similarity\": cos_sim[0][0]}\n",
    "            cosine_sim_values.append(dict)"
   ]
  },
  {
   "cell_type": "code",
   "execution_count": null,
   "metadata": {},
   "outputs": [],
   "source": [
    "cosine_sim_values = pd.DataFrame(cosine_sim_values)\n",
    "cosine_sim_values"
   ]
  },
  {
   "cell_type": "code",
   "execution_count": null,
   "metadata": {},
   "outputs": [],
   "source": [
    "cosine_sim_values[\"cosine_similarity\"].plot(kind=\"kde\")"
   ]
  },
  {
   "cell_type": "code",
   "execution_count": null,
   "metadata": {},
   "outputs": [],
   "source": [
    "cosine_sim_values.to_csv(\"train_cosine_similarity.csv\")"
   ]
  },
  {
   "cell_type": "code",
   "execution_count": null,
   "metadata": {},
   "outputs": [],
   "source": [
    "# target = train_matrix[:, [1, 1740]]\n",
    "# df = pd.DataFrame(target.toarray(), columns=[\"col1\", \"col2\"])\n",
    "# df = df.replace(0, np.nan)\n",
    "# df = df[~df.isnull().any(axis=1)]\n",
    "# df.shape[0]\n",
    "# if df.shape[0] >= 5:\n",
    "#     cos_sim = cosine_similarity(df[\"col1\"].values.reshape(1, -1), df[\"col2\"].values.reshape(1, -1))\n",
    "#     print(\"run\")\n",
    "# df.shape[0] < 5"
   ]
  },
  {
   "attachments": {},
   "cell_type": "markdown",
   "metadata": {},
   "source": [
    "### Correlation-based Similarity"
   ]
  },
  {
   "cell_type": "code",
   "execution_count": null,
   "metadata": {},
   "outputs": [],
   "source": [
    "from sklearn.metrics import pairwise_distances\n",
    "from tqdm.auto import trange\n",
    "# import warnings\n",
    "\n",
    "# warnings.filterwarnings(\"error\")\n",
    "corr_sim_values = []\n",
    "# movieId = sorted(list(set(ratings[\"movieId\"])))\n",
    "\n",
    "for item1_index in trange(len(train_movieId), desc=\"1st loop\"):\n",
    "    i = train_movieId[item1_index]\n",
    "    for item2_index in range(item1_index + 1, len(train_movieId)):\n",
    "        j = train_movieId[item2_index]\n",
    "        target = train_matrix[:, [i, j]]\n",
    "        df = pd.DataFrame(target.toarray(), columns=[\"col1\", \"col2\"])\n",
    "        df = df.replace(0, np.nan)\n",
    "        df = df[~df.isnull().any(axis=1)]\n",
    "        if df.shape[0] > 2:\n",
    "            correlation = df[\"col1\"].corr(df[\"col2\"])\n",
    "            dict = {\"item1\": i, \"item2\": j, \"correlation\": correlation}\n",
    "            corr_sim_values.append(dict)\n",
    "            # warnings.warn(Warning())"
   ]
  },
  {
   "cell_type": "code",
   "execution_count": null,
   "metadata": {},
   "outputs": [],
   "source": [
    "corr_sim_values = pd.DataFrame(corr_sim_values)\n",
    "corr_sim_values"
   ]
  },
  {
   "cell_type": "code",
   "execution_count": null,
   "metadata": {},
   "outputs": [],
   "source": [
    "corr_sim_values[\"correlation\"].plot(kind=\"kde\")"
   ]
  },
  {
   "cell_type": "code",
   "execution_count": null,
   "metadata": {},
   "outputs": [],
   "source": [
    "corr_sim_values.to_csv(\"train_correlation_similarity.csv\")"
   ]
  },
  {
   "cell_type": "code",
   "execution_count": null,
   "metadata": {},
   "outputs": [],
   "source": [
    "# target = train_matrix[:, [1, 61]]\n",
    "# df = pd.DataFrame(target.toarray(), columns=[\"col1\", \"col2\"])\n",
    "# df = df.replace(0, np.nan)\n",
    "# df = df[~df.isnull().any(axis=1)]\n",
    "# correlation = df[\"col1\"].corr(df[\"col2\"])\n",
    "# dict = {\"item1\": i, \"item2\": j, \"correlation\": correlation}\n",
    "# df"
   ]
  },
  {
   "attachments": {},
   "cell_type": "markdown",
   "metadata": {},
   "source": [
    "### Adjusted-Cosine Similarity"
   ]
  },
  {
   "cell_type": "code",
   "execution_count": null,
   "metadata": {},
   "outputs": [],
   "source": [
    "from tqdm.auto import trange\n",
    "from math import sqrt\n",
    "# import warnings\n",
    "\n",
    "# warnings.filterwarnings(\"error\")\n",
    "adj_cosine_sim_values = []\n",
    "# movieId = sorted(list(set(ratings[\"movieId\"])))\n",
    "\n",
    "for item1_index in trange(len(train_movieId), desc=\"1st loop\"):\n",
    "    i = train_movieId[item1_index]\n",
    "    for item2_index in range(item1_index + 1, len(train_movieId)):\n",
    "        j = train_movieId[item2_index]\n",
    "        target = train_matrix[:, [i, j]]\n",
    "        df = pd.DataFrame(target.toarray(), columns=[\"col1\", \"col2\"])\n",
    "        df = df.replace(0, np.nan)\n",
    "        df = df[~df.isnull().any(axis=1)]\n",
    "        if df.shape[0] > 2:\n",
    "            df_userId = df.index.tolist()\n",
    "            df_user_ratings = train[train[\"userId\"].isin(df_userId)]\n",
    "            avg_user_ratings = df_user_ratings.groupby([\"userId\"]).mean()[\"rating\"]\n",
    "            df_sub_avg = df.sub(avg_user_ratings, axis=\"index\") # subtract user average\n",
    "            adj_cos = (df_sub_avg[\"col1\"]*df_sub_avg[\"col2\"]).sum()/(sqrt((df_sub_avg[\"col1\"]**2).sum())*sqrt((df_sub_avg[\"col2\"]**2).sum()))\n",
    "            dict = {\"item1\": i, \"item2\": j, \"adjusted_cosine_similarity\": adj_cos}\n",
    "            adj_cosine_sim_values.append(dict)"
   ]
  },
  {
   "cell_type": "code",
   "execution_count": null,
   "metadata": {},
   "outputs": [],
   "source": [
    "adj_cosine_sim_values = pd.DataFrame(adj_cosine_sim_values)\n",
    "adj_cosine_sim_values"
   ]
  },
  {
   "cell_type": "code",
   "execution_count": null,
   "metadata": {},
   "outputs": [],
   "source": [
    "adj_cosine_sim_values[\"adjusted_cosine_similarity\"].plot(kind=\"kde\")"
   ]
  },
  {
   "cell_type": "code",
   "execution_count": null,
   "metadata": {},
   "outputs": [],
   "source": [
    "adj_cosine_sim_values.to_csv(\"train_adjusted_cosine_similarity.csv\")"
   ]
  },
  {
   "cell_type": "code",
   "execution_count": null,
   "metadata": {},
   "outputs": [],
   "source": [
    "# target = train_matrix[:, [1, 270]]\n",
    "# df = pd.DataFrame(target.toarray(), columns=[\"col1\", \"col2\"])\n",
    "# df = df.replace(0, np.nan)\n",
    "# df = df[~df.isnull().any(axis=1)]\n",
    "# df_userId = df.index.tolist()\n",
    "# df_user_ratings = train[train[\"userId\"].isin(df_userId)]\n",
    "# avg_user_ratings = df_user_ratings.groupby([\"userId\"]).mean()[\"rating\"]\n",
    "# df_sub_avg = df.sub(avg_user_ratings, axis=\"index\") # subtract user average\n",
    "# # adj_cos = (df_sub_avg[\"col1\"]*df_sub_avg[\"col2\"]).sum()/(sqrt((df_sub_avg[\"col1\"]**2).sum())*sqrt((df_sub_avg[\"col2\"]**2).sum()))\n",
    "# df_sub_avg"
   ]
  },
  {
   "attachments": {},
   "cell_type": "markdown",
   "metadata": {},
   "source": [
    "## Try (ignore this section)"
   ]
  },
  {
   "cell_type": "code",
   "execution_count": null,
   "metadata": {},
   "outputs": [],
   "source": [
    "# without zero row and col since userId and movieId starts from 1\n",
    "from scipy.sparse import csr_matrix\n",
    "n_users = ratings.userId.max()\n",
    "n_movies = ratings.movieId.max()\n",
    "ratings_data = ratings.rating\n",
    "user_data = ratings.userId\n",
    "item_data = ratings.movieId\n",
    "adj_matrix = csr_matrix((ratings_data, (user_data - 1, item_data - 1)), shape = (n_users, n_movies))\n",
    "adj_matrix.shape"
   ]
  },
  {
   "cell_type": "code",
   "execution_count": null,
   "metadata": {},
   "outputs": [],
   "source": [
    "n_users = ratings.userId.unique().shape[0]\n",
    "n_items = ratings.movieId.unique().shape[0]"
   ]
  },
  {
   "cell_type": "code",
   "execution_count": null,
   "metadata": {},
   "outputs": [],
   "source": [
    "# change ratings to binary because of sparse dataset\n",
    "# 0 if rating <= 2.5, 1 if rating > 2.5\n",
    "# ratings[\"rating\"] = ratings[\"rating\"].gt(2.5).astype(\"int\")"
   ]
  },
  {
   "cell_type": "code",
   "execution_count": null,
   "metadata": {},
   "outputs": [],
   "source": [
    "user_rating_count = ratings.groupby(\"userId\").size()\n",
    "user_rating_count[user_rating_count.lt(20)]"
   ]
  }
 ],
 "metadata": {
  "kernelspec": {
   "display_name": "Python 3",
   "language": "python",
   "name": "python3"
  },
  "language_info": {
   "codemirror_mode": {
    "name": "ipython",
    "version": 3
   },
   "file_extension": ".py",
   "mimetype": "text/x-python",
   "name": "python",
   "nbconvert_exporter": "python",
   "pygments_lexer": "ipython3",
   "version": "3.10.6"
  },
  "orig_nbformat": 4
 },
 "nbformat": 4,
 "nbformat_minor": 2
}
