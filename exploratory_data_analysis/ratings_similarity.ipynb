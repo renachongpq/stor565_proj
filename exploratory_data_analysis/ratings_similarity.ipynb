{
 "cells": [
  {
   "cell_type": "code",
   "execution_count": 1,
   "metadata": {},
   "outputs": [],
   "source": [
    "import pandas as pd\n",
    "import numpy as np"
   ]
  },
  {
   "cell_type": "code",
   "execution_count": 2,
   "metadata": {},
   "outputs": [],
   "source": [
    "ratings = pd.read_csv(\"../../ml-small/ratings.csv\")"
   ]
  },
  {
   "cell_type": "code",
   "execution_count": 3,
   "metadata": {},
   "outputs": [],
   "source": [
    "movie_rating_count = ratings.groupby(\"movieId\").size()\n",
    "# movie_rating_count[movie_rating_count.lt(4)]\n",
    "# movie_rating_count.plot(kind=\"hist\", xlim=(0, 350))"
   ]
  },
  {
   "cell_type": "code",
   "execution_count": 4,
   "metadata": {},
   "outputs": [],
   "source": [
    "remove_movie_id = movie_rating_count[movie_rating_count.lt(4)].index.values.tolist()\n",
    "new_ratings = ratings[~ratings.movieId.isin(remove_movie_id)]"
   ]
  },
  {
   "cell_type": "code",
   "execution_count": 5,
   "metadata": {},
   "outputs": [],
   "source": [
    "# movieId = sorted(list(set(new_ratings[\"movieId\"])))"
   ]
  },
  {
   "attachments": {},
   "cell_type": "markdown",
   "metadata": {},
   "source": [
    "### Split to Train and Test Data"
   ]
  },
  {
   "cell_type": "code",
   "execution_count": 6,
   "metadata": {},
   "outputs": [],
   "source": [
    "# split data into train and test by userId\n",
    "from sklearn.model_selection import train_test_split\n",
    "train, test = train_test_split(new_ratings, test_size=0.2, random_state=3, stratify=new_ratings[\"movieId\"])"
   ]
  },
  {
   "cell_type": "code",
   "execution_count": 7,
   "metadata": {},
   "outputs": [
    {
     "data": {
      "text/plain": [
       "3"
      ]
     },
     "execution_count": 7,
     "metadata": {},
     "output_type": "execute_result"
    }
   ],
   "source": [
    "train_rating_count = train.groupby(\"movieId\").size()\n",
    "train_rating_count.min()"
   ]
  },
  {
   "cell_type": "code",
   "execution_count": 8,
   "metadata": {},
   "outputs": [],
   "source": [
    "from scipy.sparse import csr_matrix\n",
    "\n",
    "train_user_data = list(train[\"userId\"])\n",
    "train_ratings_data = list(train[\"rating\"])\n",
    "train_item_data = list(train[\"movieId\"])\n",
    "train_matrix = csr_matrix((train_ratings_data, (train_user_data, train_item_data)))\n",
    "\n",
    "test_user_data = list(test[\"userId\"])\n",
    "test_ratings_data = list(test[\"rating\"])\n",
    "test_item_data = list(test[\"movieId\"])\n",
    "test_matrix = csr_matrix((test_ratings_data, (test_user_data, test_item_data)))"
   ]
  },
  {
   "cell_type": "code",
   "execution_count": 9,
   "metadata": {},
   "outputs": [],
   "source": [
    "train_movieId = sorted(list(set(train_item_data)))\n",
    "test_movieId = sorted(list(set(test_item_data)))"
   ]
  },
  {
   "attachments": {},
   "cell_type": "markdown",
   "metadata": {},
   "source": [
    "### Cosine Similarity Computation"
   ]
  },
  {
   "cell_type": "code",
   "execution_count": null,
   "metadata": {},
   "outputs": [],
   "source": [
    "# cosine_sim_values = pd.DataFrame(np.nan, columns=[\"item1\", \"item2\", \"cosine_similarity\"])\n",
    "from sklearn.metrics.pairwise import cosine_similarity\n",
    "from tqdm.auto import trange\n",
    "\n",
    "cosine_sim_values = []\n",
    "movieId = sorted(list(set(new_ratings[\"movieId\"])))\n",
    "\n",
    "for item1_index in trange(len(train_movieId), desc=\"1st loop\"):\n",
    "    i = train_movieId[item1_index]\n",
    "    for item2_index in range(item1_index + 1, len(train_movieId)):\n",
    "        j = train_movieId[item2_index]\n",
    "        target = train_matrix[:, [i, j]]\n",
    "        df = pd.DataFrame(target.toarray(), columns=[\"col1\", \"col2\"])\n",
    "        df = df.replace(0, np.nan)\n",
    "        df = df[~df.isnull().any(axis=1)]\n",
    "        if df.shape[0] > 2:\n",
    "            cos_sim = cosine_similarity(df[\"col1\"].values.reshape(1, -1), df[\"col2\"].values.reshape(1, -1))\n",
    "            dict = {\"item1\": i, \"item2\": j, \"cosine_similarity\": cos_sim[0][0]}\n",
    "            cosine_sim_values.append(dict)"
   ]
  },
  {
   "cell_type": "code",
   "execution_count": null,
   "metadata": {},
   "outputs": [],
   "source": [
    "cosine_sim_values = pd.DataFrame(cosine_sim_values)\n",
    "cosine_sim_values"
   ]
  },
  {
   "cell_type": "code",
   "execution_count": null,
   "metadata": {},
   "outputs": [],
   "source": [
    "cosine_sim_values[\"cosine_similarity\"].plot(kind=\"kde\")"
   ]
  },
  {
   "cell_type": "code",
   "execution_count": null,
   "metadata": {},
   "outputs": [],
   "source": [
    "cosine_sim_values.to_csv(\"train_cosine_similarity.csv\")"
   ]
  },
  {
   "cell_type": "code",
   "execution_count": null,
   "metadata": {},
   "outputs": [],
   "source": [
    "# target = train_matrix[:, [1, 1740]]\n",
    "# df = pd.DataFrame(target.toarray(), columns=[\"col1\", \"col2\"])\n",
    "# df = df.replace(0, np.nan)\n",
    "# df = df[~df.isnull().any(axis=1)]\n",
    "# df.shape[0]\n",
    "# if df.shape[0] >= 5:\n",
    "#     cos_sim = cosine_similarity(df[\"col1\"].values.reshape(1, -1), df[\"col2\"].values.reshape(1, -1))\n",
    "#     print(\"run\")\n",
    "# df.shape[0] < 5"
   ]
  },
  {
   "attachments": {},
   "cell_type": "markdown",
   "metadata": {},
   "source": [
    "### Correlation-based Similarity Computation"
   ]
  },
  {
   "cell_type": "code",
   "execution_count": null,
   "metadata": {},
   "outputs": [],
   "source": [
    "from sklearn.metrics import pairwise_distances\n",
    "from tqdm.auto import trange\n",
    "# import warnings\n",
    "\n",
    "# warnings.filterwarnings(\"error\")\n",
    "corr_sim_values = []\n",
    "movieId = sorted(list(set(new_ratings[\"movieId\"])))\n",
    "\n",
    "for item1_index in trange(len(train_movieId), desc=\"1st loop\"):\n",
    "    i = train_movieId[item1_index]\n",
    "    for item2_index in range(item1_index + 1, len(train_movieId)):\n",
    "        j = train_movieId[item2_index]\n",
    "        target = train_matrix[:, [i, j]]\n",
    "        df = pd.DataFrame(target.toarray(), columns=[\"col1\", \"col2\"])\n",
    "        df = df.replace(0, np.nan)\n",
    "        df = df[~df.isnull().any(axis=1)]\n",
    "        if df.shape[0] > 2:\n",
    "            correlation = df[\"col1\"].corr(df[\"col2\"])\n",
    "            dict = {\"item1\": i, \"item2\": j, \"correlation\": correlation}\n",
    "            corr_sim_values.append(dict)\n",
    "            # warnings.warn(Warning())"
   ]
  },
  {
   "cell_type": "code",
   "execution_count": null,
   "metadata": {},
   "outputs": [],
   "source": [
    "corr_sim_values = pd.DataFrame(corr_sim_values)\n",
    "corr_sim_values"
   ]
  },
  {
   "cell_type": "code",
   "execution_count": null,
   "metadata": {},
   "outputs": [],
   "source": [
    "corr_sim_values[\"correlation\"].plot(kind=\"kde\")"
   ]
  },
  {
   "cell_type": "code",
   "execution_count": null,
   "metadata": {},
   "outputs": [],
   "source": [
    "corr_sim_values.to_csv(\"train_correlation_similarity.csv\")"
   ]
  },
  {
   "cell_type": "code",
   "execution_count": null,
   "metadata": {},
   "outputs": [],
   "source": [
    "# target = train_matrix[:, [180031, 180985]]\n",
    "# df = pd.DataFrame(target.toarray(), columns=[\"col1\", \"col2\"])\n",
    "# df = df.replace(0, np.nan)\n",
    "# df = df[~df.isnull().any(axis=1)]\n",
    "# correlation = df[\"col1\"].corr(df[\"col2\"])\n",
    "# # dict = {\"item1\": i, \"item2\": j, \"correlation\": correlation}\n",
    "# correlation"
   ]
  },
  {
   "attachments": {},
   "cell_type": "markdown",
   "metadata": {},
   "source": [
    "### Adjusted-Cosine Similarity Computation"
   ]
  },
  {
   "cell_type": "code",
   "execution_count": null,
   "metadata": {},
   "outputs": [],
   "source": [
    "from tqdm.auto import trange\n",
    "from math import sqrt\n",
    "\n",
    "adj_cosine_sim_values = []\n",
    "movieId = sorted(list(set(new_ratings[\"movieId\"])))\n",
    "\n",
    "for item1_index in trange(len(train_movieId), desc=\"1st loop\"):\n",
    "    i = train_movieId[item1_index]\n",
    "    for item2_index in range(item1_index + 1, len(train_movieId)):\n",
    "        j = train_movieId[item2_index]\n",
    "        target = train_matrix[:, [i, j]]\n",
    "        df = pd.DataFrame(target.toarray(), columns=[\"col1\", \"col2\"])\n",
    "        df = df.replace(0, np.nan)\n",
    "        df = df[~df.isnull().any(axis=1)]\n",
    "        if df.shape[0] > 2:\n",
    "            df_userId = df.index.tolist()\n",
    "            df_user_ratings = train[train[\"userId\"].isin(df_userId)]\n",
    "            avg_user_ratings = df_user_ratings.groupby([\"userId\"]).mean()[\"rating\"]\n",
    "            df_sub_avg = df.sub(avg_user_ratings, axis=\"index\") # subtract user average\n",
    "            adj_cos = (df_sub_avg[\"col1\"]*df_sub_avg[\"col2\"]).sum()/(sqrt((df_sub_avg[\"col1\"]**2).sum())*sqrt((df_sub_avg[\"col2\"]**2).sum()))\n",
    "            dict = {\"item1\": i, \"item2\": j, \"adjusted_cosine_similarity\": adj_cos}\n",
    "            adj_cosine_sim_values.append(dict)"
   ]
  },
  {
   "cell_type": "code",
   "execution_count": null,
   "metadata": {},
   "outputs": [],
   "source": [
    "adj_cosine_sim_values = pd.DataFrame(adj_cosine_sim_values)\n",
    "adj_cosine_sim_values"
   ]
  },
  {
   "cell_type": "code",
   "execution_count": null,
   "metadata": {},
   "outputs": [],
   "source": [
    "adj_cosine_sim_values[\"adjusted_cosine_similarity\"].plot(kind=\"kde\")"
   ]
  },
  {
   "cell_type": "code",
   "execution_count": null,
   "metadata": {},
   "outputs": [],
   "source": [
    "adj_cosine_sim_values.to_csv(\"train_adjusted_cosine_similarity.csv\")"
   ]
  },
  {
   "cell_type": "code",
   "execution_count": null,
   "metadata": {},
   "outputs": [],
   "source": [
    "# target = train_matrix[:, [1, 270]]\n",
    "# df = pd.DataFrame(target.toarray(), columns=[\"col1\", \"col2\"])\n",
    "# df = df.replace(0, np.nan)\n",
    "# df = df[~df.isnull().any(axis=1)]\n",
    "# df_userId = df.index.tolist()\n",
    "# df_user_ratings = train[train[\"userId\"].isin(df_userId)]\n",
    "# avg_user_ratings = df_user_ratings.groupby([\"userId\"]).mean()[\"rating\"]\n",
    "# df_sub_avg = df.sub(avg_user_ratings, axis=\"index\") # subtract user average\n",
    "# # adj_cos = (df_sub_avg[\"col1\"]*df_sub_avg[\"col2\"]).sum()/(sqrt((df_sub_avg[\"col1\"]**2).sum())*sqrt((df_sub_avg[\"col2\"]**2).sum()))\n",
    "# df_sub_avg"
   ]
  },
  {
   "attachments": {},
   "cell_type": "markdown",
   "metadata": {},
   "source": [
    "### Prediction of Ratings"
   ]
  },
  {
   "cell_type": "code",
   "execution_count": 10,
   "metadata": {},
   "outputs": [],
   "source": [
    "train_ratings = train.pivot_table(index=\"userId\", columns=\"movieId\", values=\"rating\", fill_value=0)"
   ]
  },
  {
   "attachments": {},
   "cell_type": "markdown",
   "metadata": {},
   "source": [
    "#### Some Functions"
   ]
  },
  {
   "cell_type": "code",
   "execution_count": 11,
   "metadata": {},
   "outputs": [],
   "source": [
    "def create_symmetric(similarity_df, train_movieId):\n",
    "    add_missing_index = pd.Index(train_movieId).difference(similarity_df.index)\n",
    "    missing_df = pd.DataFrame(index=add_missing_index, columns=similarity_df.columns).fillna(float(0))\n",
    "    similarity_df = pd.concat([similarity_df, missing_df])\n",
    "    similarity_df.sort_index(inplace=True)\n",
    "    similarity_df = similarity_df.T # transpose to do the same for columns\n",
    "\n",
    "    add_missing_index = pd.Index(train_movieId).difference(similarity_df.index)\n",
    "    missing_df = pd.DataFrame(index=add_missing_index, columns=similarity_df.columns).fillna(float(0))\n",
    "    similarity_df = pd.concat([similarity_df, missing_df])\n",
    "    similarity_df = similarity_df.sort_index()\n",
    "    similarity_df = similarity_df + similarity_df.T\n",
    "    return(similarity_df)"
   ]
  },
  {
   "cell_type": "code",
   "execution_count": 12,
   "metadata": {},
   "outputs": [],
   "source": [
    "def predict_rating(user_id, movie_id, similarity_df, train_ratings, k):\n",
    "    # select k most similar items\n",
    "    similarity_row = similarity_df.loc[:,[movie_id]].sort_values(by=movie_id, axis=\"index\", ascending=False)\n",
    "    similarity_row.iloc[k:, :] = float(0)\n",
    "    similarity_row.sort_index(inplace=True)\n",
    "    similarity_row = similarity_row.values.flatten()\n",
    "\n",
    "    numerator = np.dot(train_ratings.loc[[user_id],:].values.flatten(), similarity_row)\n",
    "\n",
    "    similarity_valid = np.where(train_ratings.loc[[user_id],:].values.flatten() > 0, similarity_row, 0) # extract similarity values for items user has rated\n",
    "    denominator = np.absolute(similarity_valid).sum()\n",
    "    pred = numerator / denominator\n",
    "    return(pred)"
   ]
  },
  {
   "cell_type": "code",
   "execution_count": 13,
   "metadata": {},
   "outputs": [],
   "source": [
    "def calculate_predictions(similarity_df, train_matrix, test_data, k=100):\n",
    "    # get predicted ratings\n",
    "    import warnings\n",
    "\n",
    "    warnings.filterwarnings(\"error\")\n",
    "    pred_Y = []\n",
    "    error_index = []\n",
    "\n",
    "    for index, row in test_data[[\"userId\", \"movieId\"]].iterrows():\n",
    "        user_id = row[\"userId\"]\n",
    "        movie_id = row[\"movieId\"]\n",
    "        # print(index)\n",
    "        try:\n",
    "            pred_rating = predict_rating(user_id, movie_id, similarity_df, train_matrix, k)\n",
    "            pred_Y.append(pred_rating)\n",
    "        except Warning:\n",
    "            error_index.append(index)\n",
    "    \n",
    "    new_test = test_data.drop(error_index)\n",
    "    test_Y = new_test[\"rating\"].tolist()\n",
    "    return(pred_Y, test_Y)"
   ]
  },
  {
   "cell_type": "code",
   "execution_count": 14,
   "metadata": {},
   "outputs": [],
   "source": [
    "def calculate_mse(pred_Y, obs_Y):\n",
    "    mse = (np.subtract(pred_Y, obs_Y)**2).sum()/len(pred_Y)\n",
    "    return(mse)"
   ]
  },
  {
   "attachments": {},
   "cell_type": "markdown",
   "metadata": {},
   "source": [
    "#### Prediction using Cosine Similarity"
   ]
  },
  {
   "cell_type": "code",
   "execution_count": 15,
   "metadata": {},
   "outputs": [],
   "source": [
    "cosine_df = pd.read_csv(\"./train_cosine_similarity.csv\", index_col=[0])\n",
    "cosine_df = cosine_df.pivot_table(index=\"item1\", columns=\"item2\", values=\"cosine_similarity\", fill_value=0)\n",
    "\n",
    "cosine_df = create_symmetric(cosine_df, train_movieId)"
   ]
  },
  {
   "attachments": {},
   "cell_type": "markdown",
   "metadata": {},
   "source": [
    "##### Test MSE"
   ]
  },
  {
   "cell_type": "code",
   "execution_count": 16,
   "metadata": {},
   "outputs": [],
   "source": [
    "cosine_pred_Y, cosine_test_Y = calculate_predictions(cosine_df, train_ratings, test, 100)"
   ]
  },
  {
   "cell_type": "code",
   "execution_count": 17,
   "metadata": {},
   "outputs": [
    {
     "data": {
      "text/plain": [
       "1.0972729585095935"
      ]
     },
     "execution_count": 17,
     "metadata": {},
     "output_type": "execute_result"
    }
   ],
   "source": [
    "cosine_test_mse = calculate_mse(cosine_pred_Y, cosine_test_Y)\n",
    "cosine_test_mse"
   ]
  },
  {
   "attachments": {},
   "cell_type": "markdown",
   "metadata": {},
   "source": [
    "##### Train MSE"
   ]
  },
  {
   "cell_type": "code",
   "execution_count": 18,
   "metadata": {},
   "outputs": [
    {
     "data": {
      "text/plain": [
       "0.4539619564436651"
      ]
     },
     "execution_count": 18,
     "metadata": {},
     "output_type": "execute_result"
    }
   ],
   "source": [
    "cosine_pred_train, cosine_train = calculate_predictions(cosine_df, train_ratings, train, 100)\n",
    "cosine_train_mse = calculate_mse(cosine_pred_train, cosine_train)\n",
    "cosine_train_mse"
   ]
  },
  {
   "attachments": {},
   "cell_type": "markdown",
   "metadata": {},
   "source": [
    "#### Prediction using Correlation"
   ]
  },
  {
   "cell_type": "code",
   "execution_count": 19,
   "metadata": {},
   "outputs": [],
   "source": [
    "correlation_df = pd.read_csv(\"./train_correlation_similarity.csv\", index_col=[0])\n",
    "correlation_df = correlation_df.pivot_table(index=\"item1\", columns=\"item2\", values=\"correlation\", fill_value=0)\n",
    "\n",
    "correlation_df = create_symmetric(correlation_df, train_movieId)"
   ]
  },
  {
   "attachments": {},
   "cell_type": "markdown",
   "metadata": {},
   "source": [
    "##### Test MSE"
   ]
  },
  {
   "cell_type": "code",
   "execution_count": 20,
   "metadata": {},
   "outputs": [],
   "source": [
    "corr_pred_Y, corr_test_Y = calculate_predictions(correlation_df, train_ratings, test, 100)"
   ]
  },
  {
   "cell_type": "code",
   "execution_count": 21,
   "metadata": {},
   "outputs": [
    {
     "data": {
      "text/plain": [
       "1.1400142046330843"
      ]
     },
     "execution_count": 21,
     "metadata": {},
     "output_type": "execute_result"
    }
   ],
   "source": [
    "correlation_test_mse = calculate_mse(corr_pred_Y, corr_test_Y)\n",
    "correlation_test_mse"
   ]
  },
  {
   "attachments": {},
   "cell_type": "markdown",
   "metadata": {},
   "source": [
    "##### Train MSE"
   ]
  },
  {
   "cell_type": "code",
   "execution_count": 22,
   "metadata": {},
   "outputs": [
    {
     "data": {
      "text/plain": [
       "0.5882575612516812"
      ]
     },
     "execution_count": 22,
     "metadata": {},
     "output_type": "execute_result"
    }
   ],
   "source": [
    "corr_pred_train, corr_train = calculate_predictions(correlation_df, train_ratings, train, 100)\n",
    "correlation_train_mse = calculate_mse(corr_pred_train, corr_train)\n",
    "correlation_train_mse"
   ]
  },
  {
   "attachments": {},
   "cell_type": "markdown",
   "metadata": {},
   "source": [
    "#### Prediction using Adjusted Cosine Similarity"
   ]
  },
  {
   "cell_type": "code",
   "execution_count": 23,
   "metadata": {},
   "outputs": [],
   "source": [
    "adj_cosine_df = pd.read_csv(\"./train_adjusted_cosine_similarity.csv\", index_col=[0])\n",
    "adj_cosine_df = adj_cosine_df.pivot_table(index=\"item1\", columns=\"item2\", values=\"adjusted_cosine_similarity\", fill_value=0)\n",
    "\n",
    "adj_cosine_df = create_symmetric(adj_cosine_df, train_movieId)"
   ]
  },
  {
   "attachments": {},
   "cell_type": "markdown",
   "metadata": {},
   "source": [
    "##### Test MSE"
   ]
  },
  {
   "cell_type": "code",
   "execution_count": 24,
   "metadata": {},
   "outputs": [],
   "source": [
    "adj_cosine_pred_Y, adj_cosine_test_Y = calculate_predictions(adj_cosine_df, train_ratings, test, 100)"
   ]
  },
  {
   "cell_type": "code",
   "execution_count": 25,
   "metadata": {},
   "outputs": [
    {
     "data": {
      "text/plain": [
       "0.9215651806087481"
      ]
     },
     "execution_count": 25,
     "metadata": {},
     "output_type": "execute_result"
    }
   ],
   "source": [
    "adj_cosine_test_mse = calculate_mse(adj_cosine_pred_Y, adj_cosine_test_Y)\n",
    "adj_cosine_test_mse"
   ]
  },
  {
   "attachments": {},
   "cell_type": "markdown",
   "metadata": {},
   "source": [
    "##### Train MSE"
   ]
  },
  {
   "cell_type": "code",
   "execution_count": 26,
   "metadata": {},
   "outputs": [
    {
     "data": {
      "text/plain": [
       "0.1942010475036389"
      ]
     },
     "execution_count": 26,
     "metadata": {},
     "output_type": "execute_result"
    }
   ],
   "source": [
    "adj_cosine_pred_train, adj_cosine_train = calculate_predictions(adj_cosine_df, train_ratings, train, 100)\n",
    "adj_cosine_train_mse = calculate_mse(adj_cosine_pred_train, adj_cosine_train)\n",
    "adj_cosine_train_mse"
   ]
  },
  {
   "attachments": {},
   "cell_type": "markdown",
   "metadata": {},
   "source": [
    "#### MAE\n",
    "For cross checking with paper"
   ]
  },
  {
   "cell_type": "code",
   "execution_count": 33,
   "metadata": {},
   "outputs": [
    {
     "data": {
      "text/plain": [
       "0.7181967937275204"
      ]
     },
     "execution_count": 33,
     "metadata": {},
     "output_type": "execute_result"
    }
   ],
   "source": [
    "np.abs(np.subtract(cosine_pred_Y, cosine_test_Y)).sum()/len(cosine_pred_Y)\n",
    "np.abs(np.subtract(corr_pred_Y, corr_test_Y)).sum()/len(corr_pred_Y)\n",
    "np.abs(np.subtract(adj_cosine_pred_Y, adj_cosine_test_Y)).sum()/len(adj_cosine_pred_Y)"
   ]
  },
  {
   "attachments": {},
   "cell_type": "markdown",
   "metadata": {},
   "source": [
    "#### Plots for MSE"
   ]
  },
  {
   "cell_type": "code",
   "execution_count": 29,
   "metadata": {},
   "outputs": [
    {
     "data": {
      "image/png": "[encoded data removed]",
      "text/plain": [
       "<Figure size 640x480 with 1 Axes>"
      ]
     },
     "metadata": {},
     "output_type": "display_data"
    },
    {
     "data": {
      "text/plain": [
       "<Figure size 640x480 with 0 Axes>"
      ]
     },
     "metadata": {},
     "output_type": "display_data"
    }
   ],
   "source": [
    "import matplotlib.pyplot as plt\n",
    "\n",
    "# train_mse_data = {\"Cosine\": cosine_train_mse, \"Correlation\": correlation_train_mse, \n",
    "#                   \"Adjusted Cosine\": adj_cosine_train_mse}\n",
    "# test_mse_data = {\"Cosine\": cosine_test_mse, \"Correlation\": correlation_test_mse, \n",
    "#                  \"Adjusted Cosine\": adj_cosine_test_mse}\n",
    "# train_mse_df = pd.DataFrame(train_mse_data.items(), columns=[\"similarity_measure\", \"mse_value\"])\n",
    "# test_mse_df = pd.DataFrame(test_mse_data.items(), columns=[\"similarity_measure\", \"mse_value\"])\n",
    "\n",
    "mse_data = {\"test_mse\" :{\"Cosine\": cosine_test_mse, \"Correlation\": correlation_test_mse, \n",
    "            \"Adjusted Cosine\": adj_cosine_test_mse},\n",
    "            \"training_mse\": {\"Cosine\": cosine_train_mse, \"Correlation\": correlation_train_mse, \n",
    "            \"Adjusted Cosine\": adj_cosine_train_mse}}\n",
    "\n",
    "mse_df = pd.DataFrame.from_dict(mse_data)\n",
    "mse_df = mse_df.rename_axis(\"similarity_measure\").reset_index()\n",
    "\n",
    "ax = mse_df.plot(kind=\"bar\", x=\"similarity_measure\", color=[\"firebrick\", \"steelblue\"])\n",
    "plt.style.use(\"dark_background\")\n",
    "plt.xticks(rotation=0)\n",
    "plt.yticks(np.arange(0, 1.3, 0.1))\n",
    "plt.xlabel(\"Similarity Measure\", labelpad=15)\n",
    "plt.ylabel(\"MSE\")\n",
    "plt.show()\n",
    "# plt.savefig(\"mse_plot.png\")"
   ]
  },
  {
   "attachments": {},
   "cell_type": "markdown",
   "metadata": {},
   "source": [
    "## Try (ignore this section)"
   ]
  },
  {
   "cell_type": "code",
   "execution_count": null,
   "metadata": {},
   "outputs": [],
   "source": [
    "# without zero row and col since userId and movieId starts from 1\n",
    "from scipy.sparse import csr_matrix\n",
    "n_users = ratings.userId.max()\n",
    "n_movies = ratings.movieId.max()\n",
    "ratings_data = ratings.rating\n",
    "user_data = ratings.userId\n",
    "item_data = ratings.movieId\n",
    "adj_matrix = csr_matrix((ratings_data, (user_data - 1, item_data - 1)), shape = (n_users, n_movies))\n",
    "adj_matrix.shape"
   ]
  },
  {
   "cell_type": "code",
   "execution_count": null,
   "metadata": {},
   "outputs": [],
   "source": [
    "n_users = ratings.userId.unique().shape[0]\n",
    "n_items = ratings.movieId.unique().shape[0]"
   ]
  },
  {
   "cell_type": "code",
   "execution_count": null,
   "metadata": {},
   "outputs": [],
   "source": [
    "# change ratings to binary because of sparse dataset\n",
    "# 0 if rating <= 2.5, 1 if rating > 2.5\n",
    "# ratings[\"rating\"] = ratings[\"rating\"].gt(2.5).astype(\"int\")"
   ]
  },
  {
   "cell_type": "code",
   "execution_count": null,
   "metadata": {},
   "outputs": [],
   "source": [
    "user_rating_count = ratings.groupby(\"userId\").size()\n",
    "user_rating_count[user_rating_count.lt(20)]"
   ]
  },
  {
   "cell_type": "code",
   "execution_count": null,
   "metadata": {},
   "outputs": [],
   "source": [
    "len(ratings[\"userId\"].unique())"
   ]
  }
 ],
 "metadata": {
  "kernelspec": {
   "display_name": "Python 3",
   "language": "python",
   "name": "python3"
  },
  "language_info": {
   "codemirror_mode": {
    "name": "ipython",
    "version": 3
   },
   "file_extension": ".py",
   "mimetype": "text/x-python",
   "name": "python",
   "nbconvert_exporter": "python",
   "pygments_lexer": "ipython3",
   "version": "3.10.6"
  },
  "orig_nbformat": 4
 },
 "nbformat": 4,
 "nbformat_minor": 2
}
