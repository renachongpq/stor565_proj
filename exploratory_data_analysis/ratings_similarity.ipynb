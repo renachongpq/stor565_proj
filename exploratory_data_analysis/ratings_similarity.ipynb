{
 "cells": [
  {
   "cell_type": "code",
   "execution_count": 1,
   "metadata": {},
   "outputs": [],
   "source": [
    "import pandas as pd\n",
    "import numpy as np"
   ]
  },
  {
   "cell_type": "code",
   "execution_count": 2,
   "metadata": {},
   "outputs": [],
   "source": [
    "ratings = pd.read_csv(\"../ml-latest-small/ratings.csv\")"
   ]
  },
  {
   "cell_type": "code",
   "execution_count": 3,
   "metadata": {},
   "outputs": [],
   "source": [
    "movie_rating_count = ratings.groupby(\"movieId\").size()\n",
    "# movie_rating_count[movie_rating_count.lt(4)]\n",
    "# movie_rating_count.plot(kind=\"hist\", xlim=(0, 350))"
   ]
  },
  {
   "cell_type": "code",
   "execution_count": 4,
   "metadata": {},
   "outputs": [],
   "source": [
    "remove_movie_id = movie_rating_count[movie_rating_count.lt(4)].index.values.tolist()\n",
    "new_ratings = ratings[~ratings.movieId.isin(remove_movie_id)]"
   ]
  },
  {
   "attachments": {},
   "cell_type": "markdown",
   "metadata": {},
   "source": [
    "### Functions for Prediction"
   ]
  },
  {
   "cell_type": "code",
   "execution_count": 5,
   "metadata": {},
   "outputs": [],
   "source": [
    "# create symmetric similarity values matrix\n",
    "\n",
    "def create_symmetric(similarity_df, train_movieId):\n",
    "    add_missing_index = pd.Index(train_movieId).difference(similarity_df.index)\n",
    "    missing_df = pd.DataFrame(index=add_missing_index, columns=similarity_df.columns).fillna(float(0))\n",
    "    similarity_df = pd.concat([similarity_df, missing_df])\n",
    "    similarity_df.sort_index(inplace=True)\n",
    "    similarity_df = similarity_df.T # transpose to do the same for columns\n",
    "\n",
    "    add_missing_index = pd.Index(train_movieId).difference(similarity_df.index)\n",
    "    missing_df = pd.DataFrame(index=add_missing_index, columns=similarity_df.columns).fillna(float(0))\n",
    "    similarity_df = pd.concat([similarity_df, missing_df])\n",
    "    similarity_df = similarity_df.sort_index()\n",
    "    similarity_df = similarity_df + similarity_df.T\n",
    "    return(similarity_df)"
   ]
  },
  {
   "cell_type": "code",
   "execution_count": 6,
   "metadata": {},
   "outputs": [],
   "source": [
    "# predict rating based on k most similar items\n",
    "\n",
    "def predict_rating(user_id, movie_id, similarity_df, train_ratings, k):\n",
    "    # select k most similar items\n",
    "    similarity_row = similarity_df.loc[:,[movie_id]].sort_values(by=movie_id, axis=\"index\", ascending=False)\n",
    "    similarity_row.iloc[k:, :] = float(0)\n",
    "    similarity_row.sort_index(inplace=True)\n",
    "    similarity_row = similarity_row.values.flatten()\n",
    "\n",
    "    numerator = np.dot(train_ratings.loc[[user_id],:].values.flatten(), similarity_row)\n",
    "\n",
    "    similarity_valid = np.where(train_ratings.loc[[user_id],:].values.flatten() > 0, similarity_row, 0) # extract similarity values for items user has rated\n",
    "    denominator = np.absolute(similarity_valid).sum()\n",
    "    pred = numerator / denominator\n",
    "    return(pred)"
   ]
  },
  {
   "cell_type": "code",
   "execution_count": 7,
   "metadata": {},
   "outputs": [],
   "source": [
    "def calculate_predictions(similarity_df, train_matrix, obs_data, k=100):\n",
    "    import warnings\n",
    "    warnings.filterwarnings(\"error\")\n",
    "    pred_Y = []\n",
    "    error_index = []\n",
    "\n",
    "    for index, row in obs_data[[\"userId\", \"movieId\"]].iterrows():\n",
    "        user_id = row[\"userId\"]\n",
    "        movie_id = row[\"movieId\"]\n",
    "        try:\n",
    "            pred_rating = predict_rating(user_id, movie_id, similarity_df, train_matrix, k)\n",
    "            pred_Y.append(pred_rating)\n",
    "        except Warning:\n",
    "            error_index.append(index)\n",
    "    \n",
    "    new_obs_data = obs_data.drop(error_index)\n",
    "    obs_Y = new_obs_data[\"rating\"].tolist()\n",
    "    return(pred_Y, obs_Y)\n"
   ]
  },
  {
   "cell_type": "code",
   "execution_count": 8,
   "metadata": {},
   "outputs": [],
   "source": [
    "def calculate_mse(pred_Y, obs_Y):\n",
    "    mse = (np.subtract(pred_Y, obs_Y)**2).sum()/len(pred_Y)\n",
    "    return(mse)"
   ]
  },
  {
   "attachments": {},
   "cell_type": "markdown",
   "metadata": {},
   "source": [
    "### Split to Train and Test Data"
   ]
  },
  {
   "cell_type": "code",
   "execution_count": 9,
   "metadata": {},
   "outputs": [],
   "source": [
    "# split data into train and test by userId\n",
    "from sklearn.model_selection import train_test_split\n",
    "train, test = train_test_split(new_ratings, test_size=0.2, random_state=3, stratify=new_ratings[\"movieId\"])"
   ]
  },
  {
   "cell_type": "code",
   "execution_count": 10,
   "metadata": {},
   "outputs": [],
   "source": [
    "from scipy.sparse import csr_matrix\n",
    "\n",
    "train_user_data = list(train[\"userId\"])\n",
    "train_ratings_data = list(train[\"rating\"])\n",
    "train_item_data = list(train[\"movieId\"])\n",
    "train_matrix = csr_matrix((train_ratings_data, (train_user_data, train_item_data)))\n",
    "\n",
    "test_user_data = list(test[\"userId\"])\n",
    "test_ratings_data = list(test[\"rating\"])\n",
    "test_item_data = list(test[\"movieId\"])\n",
    "test_matrix = csr_matrix((test_ratings_data, (test_user_data, test_item_data)))"
   ]
  },
  {
   "cell_type": "code",
   "execution_count": 11,
   "metadata": {},
   "outputs": [],
   "source": [
    "train_movieId = sorted(list(set(train_item_data)))\n",
    "# test_movieId = sorted(list(set(test_item_data)))"
   ]
  },
  {
   "attachments": {},
   "cell_type": "markdown",
   "metadata": {},
   "source": [
    "### Similarity Computation"
   ]
  },
  {
   "attachments": {},
   "cell_type": "markdown",
   "metadata": {},
   "source": [
    "#### Cosine Similarity Computation"
   ]
  },
  {
   "cell_type": "code",
   "execution_count": null,
   "metadata": {},
   "outputs": [],
   "source": [
    "# cosine_sim_values = pd.DataFrame(np.nan, columns=[\"item1\", \"item2\", \"cosine_similarity\"])\n",
    "from sklearn.metrics.pairwise import cosine_similarity\n",
    "from tqdm.auto import trange\n",
    "\n",
    "cosine_sim_values = []\n",
    "movieId = sorted(list(set(new_ratings[\"movieId\"])))\n",
    "\n",
    "for item1_index in trange(len(train_movieId), desc=\"1st loop\"):\n",
    "    i = train_movieId[item1_index]\n",
    "    for item2_index in range(item1_index + 1, len(train_movieId)):\n",
    "        j = train_movieId[item2_index]\n",
    "        target = train_matrix[:, [i, j]]\n",
    "        df = pd.DataFrame(target.toarray(), columns=[\"col1\", \"col2\"])\n",
    "        df = df.replace(0, np.nan)\n",
    "        df = df[~df.isnull().any(axis=1)]\n",
    "        if df.shape[0] > 2:\n",
    "            cos_sim = cosine_similarity(df[\"col1\"].values.reshape(1, -1), df[\"col2\"].values.reshape(1, -1))\n",
    "            dict = {\"item1\": i, \"item2\": j, \"cosine_similarity\": cos_sim[0][0]}\n",
    "            cosine_sim_values.append(dict)"
   ]
  },
  {
   "cell_type": "code",
   "execution_count": null,
   "metadata": {},
   "outputs": [],
   "source": [
    "cosine_sim_values = pd.DataFrame(cosine_sim_values)\n",
    "cosine_sim_values"
   ]
  },
  {
   "cell_type": "code",
   "execution_count": null,
   "metadata": {},
   "outputs": [],
   "source": [
    "cosine_sim_values[\"cosine_similarity\"].plot(kind=\"kde\")"
   ]
  },
  {
   "cell_type": "code",
   "execution_count": null,
   "metadata": {},
   "outputs": [],
   "source": [
    "cosine_sim_values.to_csv(\"train_cosine_similarity.csv\")"
   ]
  },
  {
   "cell_type": "code",
   "execution_count": null,
   "metadata": {},
   "outputs": [],
   "source": [
    "# target = train_matrix[:, [1, 1740]]\n",
    "# df = pd.DataFrame(target.toarray(), columns=[\"col1\", \"col2\"])\n",
    "# df = df.replace(0, np.nan)\n",
    "# df = df[~df.isnull().any(axis=1)]\n",
    "# df.shape[0]\n",
    "# if df.shape[0] >= 5:\n",
    "#     cos_sim = cosine_similarity(df[\"col1\"].values.reshape(1, -1), df[\"col2\"].values.reshape(1, -1))\n",
    "#     print(\"run\")\n",
    "# df.shape[0] < 5"
   ]
  },
  {
   "attachments": {},
   "cell_type": "markdown",
   "metadata": {},
   "source": [
    "#### Correlation-based Similarity Computation"
   ]
  },
  {
   "cell_type": "code",
   "execution_count": null,
   "metadata": {},
   "outputs": [],
   "source": [
    "from sklearn.metrics import pairwise_distances\n",
    "from tqdm.auto import trange\n",
    "# import warnings\n",
    "\n",
    "# warnings.filterwarnings(\"error\")\n",
    "corr_sim_values = []\n",
    "movieId = sorted(list(set(new_ratings[\"movieId\"])))\n",
    "\n",
    "for item1_index in trange(len(train_movieId), desc=\"1st loop\"):\n",
    "    i = train_movieId[item1_index]\n",
    "    for item2_index in range(item1_index + 1, len(train_movieId)):\n",
    "        j = train_movieId[item2_index]\n",
    "        target = train_matrix[:, [i, j]]\n",
    "        df = pd.DataFrame(target.toarray(), columns=[\"col1\", \"col2\"])\n",
    "        df = df.replace(0, np.nan)\n",
    "        df = df[~df.isnull().any(axis=1)]\n",
    "        if df.shape[0] > 2:\n",
    "            correlation = df[\"col1\"].corr(df[\"col2\"])\n",
    "            dict = {\"item1\": i, \"item2\": j, \"correlation\": correlation}\n",
    "            corr_sim_values.append(dict)\n",
    "            # warnings.warn(Warning())"
   ]
  },
  {
   "cell_type": "code",
   "execution_count": null,
   "metadata": {},
   "outputs": [],
   "source": [
    "corr_sim_values = pd.DataFrame(corr_sim_values)\n",
    "corr_sim_values"
   ]
  },
  {
   "cell_type": "code",
   "execution_count": null,
   "metadata": {},
   "outputs": [],
   "source": [
    "corr_sim_values[\"correlation\"].plot(kind=\"kde\")"
   ]
  },
  {
   "cell_type": "code",
   "execution_count": null,
   "metadata": {},
   "outputs": [],
   "source": [
    "corr_sim_values.to_csv(\"train_correlation_similarity.csv\")"
   ]
  },
  {
   "cell_type": "code",
   "execution_count": null,
   "metadata": {},
   "outputs": [],
   "source": [
    "# target = train_matrix[:, [180031, 180985]]\n",
    "# df = pd.DataFrame(target.toarray(), columns=[\"col1\", \"col2\"])\n",
    "# df = df.replace(0, np.nan)\n",
    "# df = df[~df.isnull().any(axis=1)]\n",
    "# correlation = df[\"col1\"].corr(df[\"col2\"])\n",
    "# # dict = {\"item1\": i, \"item2\": j, \"correlation\": correlation}\n",
    "# correlation"
   ]
  },
  {
   "attachments": {},
   "cell_type": "markdown",
   "metadata": {},
   "source": [
    "#### Adjusted-Cosine Similarity Computation"
   ]
  },
  {
   "cell_type": "code",
   "execution_count": null,
   "metadata": {},
   "outputs": [],
   "source": [
    "from tqdm.auto import trange\n",
    "from math import sqrt\n",
    "\n",
    "adj_cosine_sim_values = []\n",
    "movieId = sorted(list(set(new_ratings[\"movieId\"])))\n",
    "\n",
    "for item1_index in trange(len(train_movieId), desc=\"1st loop\"):\n",
    "    i = train_movieId[item1_index]\n",
    "    for item2_index in range(item1_index + 1, len(train_movieId)):\n",
    "        j = train_movieId[item2_index]\n",
    "        target = train_matrix[:, [i, j]]\n",
    "        df = pd.DataFrame(target.toarray(), columns=[\"col1\", \"col2\"])\n",
    "        df = df.replace(0, np.nan)\n",
    "        df = df[~df.isnull().any(axis=1)]\n",
    "        if df.shape[0] > 2:\n",
    "            df_userId = df.index.tolist()\n",
    "            df_user_ratings = train[train[\"userId\"].isin(df_userId)]\n",
    "            avg_user_ratings = df_user_ratings.groupby([\"userId\"]).mean()[\"rating\"]\n",
    "            df_sub_avg = df.sub(avg_user_ratings, axis=\"index\") # subtract user average\n",
    "            adj_cos = (df_sub_avg[\"col1\"]*df_sub_avg[\"col2\"]).sum()/(sqrt((df_sub_avg[\"col1\"]**2).sum())*sqrt((df_sub_avg[\"col2\"]**2).sum()))\n",
    "            dict = {\"item1\": i, \"item2\": j, \"adjusted_cosine_similarity\": adj_cos}\n",
    "            adj_cosine_sim_values.append(dict)"
   ]
  },
  {
   "cell_type": "code",
   "execution_count": null,
   "metadata": {},
   "outputs": [],
   "source": [
    "adj_cosine_sim_values = pd.DataFrame(adj_cosine_sim_values)\n",
    "adj_cosine_sim_values"
   ]
  },
  {
   "cell_type": "code",
   "execution_count": null,
   "metadata": {},
   "outputs": [],
   "source": [
    "adj_cosine_sim_values[\"adjusted_cosine_similarity\"].plot(kind=\"kde\")"
   ]
  },
  {
   "cell_type": "code",
   "execution_count": null,
   "metadata": {},
   "outputs": [],
   "source": [
    "adj_cosine_sim_values.to_csv(\"train_adjusted_cosine_similarity.csv\")"
   ]
  },
  {
   "cell_type": "code",
   "execution_count": null,
   "metadata": {},
   "outputs": [],
   "source": [
    "# target = train_matrix[:, [1, 270]]\n",
    "# df = pd.DataFrame(target.toarray(), columns=[\"col1\", \"col2\"])\n",
    "# df = df.replace(0, np.nan)\n",
    "# df = df[~df.isnull().any(axis=1)]\n",
    "# df_userId = df.index.tolist()\n",
    "# df_user_ratings = train[train[\"userId\"].isin(df_userId)]\n",
    "# avg_user_ratings = df_user_ratings.groupby([\"userId\"]).mean()[\"rating\"]\n",
    "# df_sub_avg = df.sub(avg_user_ratings, axis=\"index\") # subtract user average\n",
    "# # adj_cos = (df_sub_avg[\"col1\"]*df_sub_avg[\"col2\"]).sum()/(sqrt((df_sub_avg[\"col1\"]**2).sum())*sqrt((df_sub_avg[\"col2\"]**2).sum()))\n",
    "# df_sub_avg"
   ]
  },
  {
   "attachments": {},
   "cell_type": "markdown",
   "metadata": {},
   "source": [
    "### Prediction of Ratings"
   ]
  },
  {
   "cell_type": "code",
   "execution_count": null,
   "metadata": {},
   "outputs": [],
   "source": [
    "# train_ratings = train.pivot_table(index=\"userId\", columns=\"movieId\", values=\"rating\", fill_value=0)"
   ]
  },
  {
   "cell_type": "code",
   "execution_count": 38,
   "metadata": {},
   "outputs": [],
   "source": [
    "def select_k(similarity_df, test_data, train_data, k_list, type_sim):\n",
    "    if type_sim == \"cosine\":\n",
    "        similarity_df = similarity_df.pivot_table(index=\"item1\", columns=\"item2\", values=\"cosine_similarity\", fill_value=0)\n",
    "    elif type_sim == \"correlation\":\n",
    "        similarity_df = similarity_df.pivot_table(index=\"item1\", columns=\"item2\", values=\"correlation\", fill_value=0)\n",
    "    elif type_sim == \"adjusted cosine\":\n",
    "        similarity_df = similarity_df.pivot_table(index=\"item1\", columns=\"item2\", values=\"adjusted_cosine_similarity\", fill_value=0)\n",
    "    \n",
    "    movieId = sorted(list(set(train_data[\"movieId\"])))\n",
    "    train_ratings_matrix = train_data.pivot_table(index=\"userId\", columns=\"movieId\", values=\"rating\", fill_value=0)\n",
    "    similarity_df = create_symmetric(similarity_df, movieId)\n",
    "\n",
    "    all_test_mse = {}\n",
    "    all_train_mse = {}\n",
    "    \n",
    "    for k in k_list:\n",
    "        pred_test, test_Y = calculate_predictions(similarity_df, train_ratings_matrix, test_data, k)\n",
    "        test_mse = calculate_mse(pred_test, test_Y)\n",
    "        all_test_mse[k] = test_mse\n",
    "\n",
    "        pred_train, train_Y = calculate_predictions(similarity_df, train_ratings_matrix, train_data, k)\n",
    "        train_mse = calculate_mse(pred_train, train_Y)\n",
    "        all_train_mse[k] = train_mse\n",
    "    \n",
    "    return {\"test_mse\": all_test_mse, \"train_mse\": all_train_mse}"
   ]
  },
  {
   "cell_type": "code",
   "execution_count": 17,
   "metadata": {},
   "outputs": [],
   "source": [
    "k = [10, 20, 30, 40, 50, 60, 70, 80, 90, 100, 150, 200]"
   ]
  },
  {
   "cell_type": "code",
   "execution_count": 18,
   "metadata": {},
   "outputs": [],
   "source": [
    "cosine_df = pd.read_csv(\"./train_cosine_similarity.csv\", index_col=[0])\n",
    "cosine_mse = select_k(cosine_df, test, train, k, \"cosine\")"
   ]
  },
  {
   "cell_type": "code",
   "execution_count": 24,
   "metadata": {},
   "outputs": [
    {
     "data": {
      "text/plain": [
       "{'test_mse': {10: 1.333992980992816,\n",
       "  20: 1.267501303991594,\n",
       "  30: 1.2262539337751106,\n",
       "  40: 1.1821238075309712,\n",
       "  50: 1.1604244198960068,\n",
       "  60: 1.1349446055601269,\n",
       "  70: 1.11663389072881,\n",
       "  80: 1.1138747811548013,\n",
       "  90: 1.1045417609709673,\n",
       "  100: 1.0972729585095935,\n",
       "  150: 1.0527198483181919,\n",
       "  200: 1.0281489199534029},\n",
       " 'train_mse': {10: 0.4492993761556872,\n",
       "  20: 0.4893968766102389,\n",
       "  30: 0.4740329747341834,\n",
       "  40: 0.4545207268032431,\n",
       "  50: 0.44577318855721587,\n",
       "  60: 0.44199601102757374,\n",
       "  70: 0.4447053725734441,\n",
       "  80: 0.4479468122868366,\n",
       "  90: 0.4514327804250624,\n",
       "  100: 0.4539619564436651,\n",
       "  150: 0.4601828137157246,\n",
       "  200: 0.46779992806037046}}"
      ]
     },
     "execution_count": 24,
     "metadata": {},
     "output_type": "execute_result"
    }
   ],
   "source": [
    "cosine_mse"
   ]
  },
  {
   "cell_type": "code",
   "execution_count": 19,
   "metadata": {},
   "outputs": [],
   "source": [
    "correlation_df = pd.read_csv(\"./train_correlation_similarity.csv\", index_col=[0])\n",
    "correlation_mse = select_k(correlation_df, test, train, k, \"correlation\")"
   ]
  },
  {
   "cell_type": "code",
   "execution_count": 23,
   "metadata": {},
   "outputs": [
    {
     "data": {
      "text/plain": [
       "{'test_mse': {10: 1.3742258063600357,\n",
       "  20: 1.3148246705250821,\n",
       "  30: 1.2693497129939193,\n",
       "  40: 1.2407547887860468,\n",
       "  50: 1.211134237094596,\n",
       "  60: 1.189086581861727,\n",
       "  70: 1.1754790771099994,\n",
       "  80: 1.1596406641296757,\n",
       "  90: 1.1455990192477736,\n",
       "  100: 1.1400142046330843,\n",
       "  150: 1.0943707009239398,\n",
       "  200: 1.0746354686928918},\n",
       " 'train_mse': {10: 0.728437782944481,\n",
       "  20: 0.678042037593045,\n",
       "  30: 0.6609995040316382,\n",
       "  40: 0.6463993855125197,\n",
       "  50: 0.6365150971802677,\n",
       "  60: 0.6238689904565599,\n",
       "  70: 0.6145372963230048,\n",
       "  80: 0.6061051431747708,\n",
       "  90: 0.5948083984594061,\n",
       "  100: 0.5882575612516812,\n",
       "  150: 0.5599764688148932,\n",
       "  200: 0.5442086620650756}}"
      ]
     },
     "execution_count": 23,
     "metadata": {},
     "output_type": "execute_result"
    }
   ],
   "source": [
    "correlation_mse"
   ]
  },
  {
   "cell_type": "code",
   "execution_count": 42,
   "metadata": {},
   "outputs": [
    {
     "name": "stdout",
     "output_type": "stream",
     "text": [
      "(4020, 4158)\n"
     ]
    }
   ],
   "source": [
    "adj_cosine_df = pd.read_csv(\"./train_adjusted_cosine_similarity.csv\", index_col=[0])\n",
    "adjusted_cosine_mse = select_k(adj_cosine_df, test, train, k, \"adjusted cosine\")"
   ]
  },
  {
   "cell_type": "code",
   "execution_count": 43,
   "metadata": {},
   "outputs": [
    {
     "data": {
      "text/plain": [
       "{'test_mse': {10: 1.161150325417621,\n",
       "  20: 1.0689314424160508,\n",
       "  30: 1.0232104751582498,\n",
       "  40: 0.9984188619447819,\n",
       "  50: 0.983961908489432,\n",
       "  60: 0.9692144775990076,\n",
       "  70: 0.9512991963086982,\n",
       "  80: 0.9404743492719327,\n",
       "  90: 0.9264616227004169,\n",
       "  100: 0.9215651806087481,\n",
       "  150: 0.8764445242601043,\n",
       "  200: 0.8480212708302775},\n",
       " 'train_mse': {10: 0.15215623878695128,\n",
       "  20: 0.1775502771844778,\n",
       "  30: 0.18143545366175656,\n",
       "  40: 0.18417205267125034,\n",
       "  50: 0.18662925497831923,\n",
       "  60: 0.18821302826179928,\n",
       "  70: 0.18878097739648725,\n",
       "  80: 0.1901598540199012,\n",
       "  90: 0.1928239252453886,\n",
       "  100: 0.1942010475036389,\n",
       "  150: 0.20285657414958227,\n",
       "  200: 0.2120672624443075}}"
      ]
     },
     "execution_count": 43,
     "metadata": {},
     "output_type": "execute_result"
    }
   ],
   "source": [
    "adjusted_cosine_mse"
   ]
  },
  {
   "cell_type": "code",
   "execution_count": 84,
   "metadata": {},
   "outputs": [],
   "source": [
    "cosine_mse_df = pd.DataFrame.from_dict(cosine_mse).rename_axis(\"k\").reset_index()\n",
    "cosine_mse_df[\"similarity_measure\"] = \"cosine\"\n",
    "correlation_mse_df = pd.DataFrame.from_dict(correlation_mse).rename_axis(\"k\").reset_index()\n",
    "correlation_mse_df[\"similarity_measure\"] = \"correlation\"\n",
    "adjusted_cosine_mse_df = pd.DataFrame.from_dict(adjusted_cosine_mse).rename_axis(\"k\").reset_index()\n",
    "adjusted_cosine_mse_df[\"similarity_measure\"] = \"adjusted cosine\"\n",
    "mse_df = pd.concat([cosine_mse_df, correlation_mse_df, adjusted_cosine_mse_df])"
   ]
  },
  {
   "cell_type": "code",
   "execution_count": 119,
   "metadata": {},
   "outputs": [
    {
     "data": {
      "image/png": "[encoded data removed]",
      "text/plain": [
       "<Figure size 640x480 with 1 Axes>"
      ]
     },
     "metadata": {},
     "output_type": "display_data"
    }
   ],
   "source": [
    "import matplotlib.pyplot as plt\n",
    "\n",
    "# plt.rcParams.update(plt.rcParamsDefault)\n",
    "fig, ax = plt.subplots()\n",
    "legend_names = []\n",
    "for key, grp in mse_df.groupby([\"similarity_measure\"]):\n",
    "    legend_names.append(key)\n",
    "    ax = grp.plot(ax=ax, kind=\"line\", x=\"k\", y=[\"test_mse\"], grid=True, marker=\"^\", legend=True)\n",
    "# ax.patch.set_facecolor('white')\n",
    "# plt.xticks(np.arange(0, 220, 50))\n",
    "# plt.yticks(np.arange(0.8, 1.5, 0.1))\n",
    "plt.legend(loc=\"best\")\n",
    "ax.legend(legend_names)\n",
    "# plt.xlabel(\"k\", labelpad=15)\n",
    "plt.ylabel(\"Test MSE\")\n",
    "plt.title(\"Sensitivity of k, the no. of most similar items used for prediction\", pad=15)\n",
    "plt.show()\n",
    "# plt.savefig(\"test_mse_vs_k.png\")"
   ]
  },
  {
   "cell_type": "code",
   "execution_count": 129,
   "metadata": {},
   "outputs": [
    {
     "data": {
      "image/png": "[encoded data removed]",
      "text/plain": [
       "<Figure size 640x480 with 1 Axes>"
      ]
     },
     "metadata": {},
     "output_type": "display_data"
    }
   ],
   "source": [
    "ax = mse_df[mse_df[\"k\"] == 70][[\"test_mse\", \"train_mse\", \"similarity_measure\"]].plot(kind=\"bar\", x=\"similarity_measure\",color=[\"firebrick\", \"steelblue\"])\n",
    "plt.xticks(rotation=0)\n",
    "plt.yticks(np.arange(0, 1.3, 0.1))\n",
    "plt.xlabel(\"Similarity Measure\", labelpad=15)\n",
    "plt.ylabel(\"MSE\")\n",
    "plt.show()\n",
    "# plt.savefig(\"mse_plot.png\""
   ]
  },
  {
   "attachments": {},
   "cell_type": "markdown",
   "metadata": {},
   "source": [
    "#### Prediction using Cosine Similarity (old)"
   ]
  },
  {
   "cell_type": "code",
   "execution_count": null,
   "metadata": {},
   "outputs": [],
   "source": [
    "cosine_df = pd.read_csv(\"./train_cosine_similarity.csv\", index_col=[0])\n",
    "cosine_df = cosine_df.pivot_table(index=\"item1\", columns=\"item2\", values=\"cosine_similarity\", fill_value=0)\n",
    "\n",
    "cosine_df = create_symmetric(cosine_df, train_movieId)"
   ]
  },
  {
   "attachments": {},
   "cell_type": "markdown",
   "metadata": {},
   "source": [
    "##### Test MSE"
   ]
  },
  {
   "cell_type": "code",
   "execution_count": null,
   "metadata": {},
   "outputs": [],
   "source": [
    "cosine_pred_Y, cosine_test_Y = calculate_predictions(cosine_df, train_ratings, test, 100)"
   ]
  },
  {
   "cell_type": "code",
   "execution_count": null,
   "metadata": {},
   "outputs": [],
   "source": [
    "cosine_test_mse = calculate_mse(cosine_pred_Y, cosine_test_Y)\n",
    "cosine_test_mse"
   ]
  },
  {
   "attachments": {},
   "cell_type": "markdown",
   "metadata": {},
   "source": [
    "##### Train MSE"
   ]
  },
  {
   "cell_type": "code",
   "execution_count": null,
   "metadata": {},
   "outputs": [],
   "source": [
    "cosine_pred_train, cosine_train = calculate_predictions(cosine_df, train_ratings, train, 100)\n",
    "cosine_train_mse = calculate_mse(cosine_pred_train, cosine_train)\n",
    "cosine_train_mse"
   ]
  },
  {
   "attachments": {},
   "cell_type": "markdown",
   "metadata": {},
   "source": [
    "#### Prediction using Correlation (old)"
   ]
  },
  {
   "cell_type": "code",
   "execution_count": null,
   "metadata": {},
   "outputs": [],
   "source": [
    "correlation_df = pd.read_csv(\"./train_correlation_similarity.csv\", index_col=[0])\n",
    "correlation_df = correlation_df.pivot_table(index=\"item1\", columns=\"item2\", values=\"correlation\", fill_value=0)\n",
    "\n",
    "correlation_df = create_symmetric(correlation_df, train_movieId)"
   ]
  },
  {
   "attachments": {},
   "cell_type": "markdown",
   "metadata": {},
   "source": [
    "##### Test MSE"
   ]
  },
  {
   "cell_type": "code",
   "execution_count": null,
   "metadata": {},
   "outputs": [],
   "source": [
    "corr_pred_Y, corr_test_Y = calculate_predictions(correlation_df, train_ratings, test, 100)"
   ]
  },
  {
   "cell_type": "code",
   "execution_count": null,
   "metadata": {},
   "outputs": [],
   "source": [
    "correlation_test_mse = calculate_mse(corr_pred_Y, corr_test_Y)\n",
    "correlation_test_mse"
   ]
  },
  {
   "attachments": {},
   "cell_type": "markdown",
   "metadata": {},
   "source": [
    "##### Train MSE"
   ]
  },
  {
   "cell_type": "code",
   "execution_count": null,
   "metadata": {},
   "outputs": [],
   "source": [
    "corr_pred_train, corr_train = calculate_predictions(correlation_df, train_ratings, train, 100)\n",
    "correlation_train_mse = calculate_mse(corr_pred_train, corr_train)\n",
    "correlation_train_mse"
   ]
  },
  {
   "attachments": {},
   "cell_type": "markdown",
   "metadata": {},
   "source": [
    "#### Prediction using Adjusted Cosine Similarity (old)"
   ]
  },
  {
   "cell_type": "code",
   "execution_count": 40,
   "metadata": {},
   "outputs": [],
   "source": [
    "adj_cosine_df = pd.read_csv(\"./train_adjusted_cosine_similarity.csv\", index_col=[0])\n",
    "adj_cosine_df = adj_cosine_df.pivot_table(index=\"item1\", columns=\"item2\", values=\"adjusted_cosine_similarity\", fill_value=0)\n",
    "\n",
    "# adj_cosine_df = create_symmetric(adj_cosine_df, train_movieId)"
   ]
  },
  {
   "cell_type": "code",
   "execution_count": 41,
   "metadata": {},
   "outputs": [
    {
     "data": {
      "text/plain": [
       "(4020, 4158)"
      ]
     },
     "execution_count": 41,
     "metadata": {},
     "output_type": "execute_result"
    }
   ],
   "source": [
    "adj_cosine_df.shape"
   ]
  },
  {
   "attachments": {},
   "cell_type": "markdown",
   "metadata": {},
   "source": [
    "##### Test MSE"
   ]
  },
  {
   "cell_type": "code",
   "execution_count": null,
   "metadata": {},
   "outputs": [],
   "source": [
    "adj_cosine_pred_Y, adj_cosine_test_Y = calculate_predictions(adj_cosine_df, train_ratings, test, 100)"
   ]
  },
  {
   "cell_type": "code",
   "execution_count": null,
   "metadata": {},
   "outputs": [],
   "source": [
    "adj_cosine_test_mse = calculate_mse(adj_cosine_pred_Y, adj_cosine_test_Y)\n",
    "adj_cosine_test_mse"
   ]
  },
  {
   "attachments": {},
   "cell_type": "markdown",
   "metadata": {},
   "source": [
    "##### Train MSE"
   ]
  },
  {
   "cell_type": "code",
   "execution_count": null,
   "metadata": {},
   "outputs": [],
   "source": [
    "adj_cosine_pred_train, adj_cosine_train = calculate_predictions(adj_cosine_df, train_ratings, train, 100)\n",
    "adj_cosine_train_mse = calculate_mse(adj_cosine_pred_train, adj_cosine_train)\n",
    "adj_cosine_train_mse"
   ]
  },
  {
   "attachments": {},
   "cell_type": "markdown",
   "metadata": {},
   "source": [
    "#### MAE\n",
    "For cross checking with paper"
   ]
  },
  {
   "cell_type": "code",
   "execution_count": null,
   "metadata": {},
   "outputs": [],
   "source": [
    "np.abs(np.subtract(cosine_pred_Y, cosine_test_Y)).sum()/len(cosine_pred_Y)\n",
    "np.abs(np.subtract(corr_pred_Y, corr_test_Y)).sum()/len(corr_pred_Y)\n",
    "np.abs(np.subtract(adj_cosine_pred_Y, adj_cosine_test_Y)).sum()/len(adj_cosine_pred_Y)"
   ]
  },
  {
   "attachments": {},
   "cell_type": "markdown",
   "metadata": {},
   "source": [
    "#### Plots for MSE"
   ]
  },
  {
   "cell_type": "code",
   "execution_count": null,
   "metadata": {},
   "outputs": [],
   "source": [
    "import matplotlib.pyplot as plt\n",
    "\n",
    "# train_mse_data = {\"Cosine\": cosine_train_mse, \"Correlation\": correlation_train_mse, \n",
    "#                   \"Adjusted Cosine\": adj_cosine_train_mse}\n",
    "# test_mse_data = {\"Cosine\": cosine_test_mse, \"Correlation\": correlation_test_mse, \n",
    "#                  \"Adjusted Cosine\": adj_cosine_test_mse}\n",
    "# train_mse_df = pd.DataFrame(train_mse_data.items(), columns=[\"similarity_measure\", \"mse_value\"])\n",
    "# test_mse_df = pd.DataFrame(test_mse_data.items(), columns=[\"similarity_measure\", \"mse_value\"])\n",
    "\n",
    "mse_data = {\"test_mse\" :{\"Cosine\": cosine_test_mse, \"Correlation\": correlation_test_mse, \n",
    "            \"Adjusted Cosine\": adj_cosine_test_mse},\n",
    "            \"training_mse\": {\"Cosine\": cosine_train_mse, \"Correlation\": correlation_train_mse, \n",
    "            \"Adjusted Cosine\": adj_cosine_train_mse}}\n",
    "\n",
    "mse_df = pd.DataFrame.from_dict(mse_data)\n",
    "mse_df = mse_df.rename_axis(\"similarity_measure\").reset_index()\n",
    "\n",
    "ax = mse_df.plot(kind=\"bar\", x=\"similarity_measure\", color=[\"firebrick\", \"steelblue\"])\n",
    "plt.style.use(\"dark_background\")\n",
    "plt.xticks(rotation=0)\n",
    "plt.yticks(np.arange(0, 1.3, 0.1))\n",
    "plt.xlabel(\"Similarity Measure\", labelpad=15)\n",
    "plt.ylabel(\"MSE\")\n",
    "plt.show()\n",
    "# plt.savefig(\"mse_plot.png\")"
   ]
  },
  {
   "attachments": {},
   "cell_type": "markdown",
   "metadata": {},
   "source": [
    "## Try (ignore this section)"
   ]
  },
  {
   "cell_type": "code",
   "execution_count": null,
   "metadata": {},
   "outputs": [],
   "source": [
    "# without zero row and col since userId and movieId starts from 1\n",
    "from scipy.sparse import csr_matrix\n",
    "n_users = ratings.userId.max()\n",
    "n_movies = ratings.movieId.max()\n",
    "ratings_data = ratings.rating\n",
    "user_data = ratings.userId\n",
    "item_data = ratings.movieId\n",
    "adj_matrix = csr_matrix((ratings_data, (user_data - 1, item_data - 1)), shape = (n_users, n_movies))\n",
    "adj_matrix.shape"
   ]
  },
  {
   "cell_type": "code",
   "execution_count": null,
   "metadata": {},
   "outputs": [],
   "source": [
    "n_users = ratings.userId.unique().shape[0]\n",
    "n_items = ratings.movieId.unique().shape[0]"
   ]
  },
  {
   "attachments": {},
   "cell_type": "markdown",
   "metadata": {},
   "source": [
    "### Prediction of Ratings (with Cross-Validation)"
   ]
  },
  {
   "cell_type": "code",
   "execution_count": null,
   "metadata": {},
   "outputs": [],
   "source": [
    "from sklearn.model_selection import StratifiedKFold\n",
    "\n",
    "# k-fold cross validation\n",
    "def cross_validation(ratings_data, similarity_df, type_sim):\n",
    "    if type_sim == \"cosine\":\n",
    "        similarity_df = similarity_df.pivot_table(index=\"item1\", columns=\"item2\", values=\"cosine_similarity\", fill_value=0)\n",
    "    elif type_sim == \"correlation\":\n",
    "        similarity_df = similarity_df.pivot_table(index=\"item1\", columns=\"item2\", values=\"correlation\", fill_value=0)\n",
    "    elif type_sim == \"adjusted cosine\":\n",
    "        similarity_df = similarity_df.pivot_table(index=\"item1\", columns=\"item2\", values=\"adjusted_cosine_similarity\", fill_value=0)\n",
    "    \n",
    "    movieId = sorted(list(set(ratings_data[\"movieId\"])))\n",
    "    similarity_df = create_symmetric(similarity_df, movieId)\n",
    "        \n",
    "    skf = StratifiedKFold(n_splits=4, shuffle=True, random_state=3)\n",
    "    skf.get_n_splits(ratings_data, ratings_data[\"movieId\"])\n",
    "\n",
    "    all_test_mse = []\n",
    "    all_train_mse = []\n",
    "    for i, (train_index, test_index) in enumerate(skf.split(ratings_data, ratings_data[\"movieId\"])):\n",
    "        train = ratings_data.iloc[train_index.tolist()]\n",
    "        test = ratings_data.iloc[test_index.tolist()]\n",
    "\n",
    "        # train_item_data = list(train[\"movieId\"])\n",
    "        # train_movieId = sorted(list(set(train_item_data)))\n",
    "\n",
    "        train_ratings = train.pivot_table(index=\"userId\", columns=\"movieId\", values=\"rating\", fill_value=0)\n",
    "        \n",
    "        # similarity_df = create_symmetric(similarity_df, train_movieId)\n",
    "\n",
    "        # test_mse\n",
    "        pred_test, test_Y = calculate_predictions(similarity_df, train_ratings, test, 100)\n",
    "        test_mse = calculate_mse(pred_test, test_Y)\n",
    "        all_test_mse.append(test_mse)\n",
    "\n",
    "        # train_mse\n",
    "        pred_train, train_Y = calculate_predictions(similarity_df, train_ratings, train, 100)\n",
    "        train_mse = calculate_mse(pred_train, train_Y)\n",
    "        all_train_mse.append(train_mse)\n",
    "\n",
    "        print(test_mse, train_mse)\n",
    "        \n",
    "    avg_test_mse = sum(all_test_mse)/len(all_test_mse)\n",
    "    avg_train_mse = sum(all_train_mse)/len(all_train_mse)\n",
    "    return (avg_test_mse, avg_train_mse)"
   ]
  },
  {
   "cell_type": "code",
   "execution_count": null,
   "metadata": {},
   "outputs": [],
   "source": [
    "cosine_df = pd.read_csv(\"./train_cosine_similarity.csv\", index_col=[0])\n",
    "cosine_test_mse, cosine_train_mse = cross_validation(new_ratings, cosine_df, \"cosine\")"
   ]
  },
  {
   "cell_type": "code",
   "execution_count": null,
   "metadata": {},
   "outputs": [],
   "source": [
    "cosine_test_mse, cosine_train_mse"
   ]
  },
  {
   "cell_type": "code",
   "execution_count": null,
   "metadata": {},
   "outputs": [],
   "source": [
    "correlation_df = pd.read_csv(\"./train_correlation_similarity.csv\", index_col=[0])\n",
    "correlation_test_mse, correlation_train_mse = cross_validation(new_ratings, correlation_df, \"correlation\")"
   ]
  },
  {
   "cell_type": "code",
   "execution_count": null,
   "metadata": {},
   "outputs": [],
   "source": [
    "correlation_test_mse, correlation_test_mse"
   ]
  },
  {
   "cell_type": "code",
   "execution_count": null,
   "metadata": {},
   "outputs": [],
   "source": [
    "adj_cosine_df = pd.read_csv(\"./train_adjusted_cosine_similarity.csv\", index_col=[0])\n",
    "adj_cosine_test_mse, adj_cosine_train_mse = cross_validation(new_ratings, adj_cosine_df, \"adjusted cosine\")"
   ]
  },
  {
   "cell_type": "code",
   "execution_count": null,
   "metadata": {},
   "outputs": [],
   "source": [
    "adj_cosine_test_mse, adj_cosine_train_mse"
   ]
  }
 ],
 "metadata": {
  "kernelspec": {
   "display_name": "Python 3",
   "language": "python",
   "name": "python3"
  },
  "language_info": {
   "codemirror_mode": {
    "name": "ipython",
    "version": 3
   },
   "file_extension": ".py",
   "mimetype": "text/x-python",
   "name": "python",
   "nbconvert_exporter": "python",
   "pygments_lexer": "ipython3",
   "version": "3.10.6"
  },
  "orig_nbformat": 4
 },
 "nbformat": 4,
 "nbformat_minor": 2
}
