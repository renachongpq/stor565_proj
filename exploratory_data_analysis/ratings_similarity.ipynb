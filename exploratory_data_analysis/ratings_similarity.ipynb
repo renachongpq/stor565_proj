{
 "cells": [
  {
   "cell_type": "code",
   "execution_count": 1,
   "metadata": {},
   "outputs": [],
   "source": [
    "import pandas as pd\n",
    "import numpy as np"
   ]
  },
  {
   "cell_type": "code",
   "execution_count": 2,
   "metadata": {},
   "outputs": [],
   "source": [
    "ratings = pd.read_csv(\"../../ml-small/ratings.csv\")"
   ]
  },
  {
   "cell_type": "code",
   "execution_count": 3,
   "metadata": {},
   "outputs": [
    {
     "data": {
      "text/plain": [
       "movieId\n",
       "30        3\n",
       "40        2\n",
       "49        1\n",
       "53        2\n",
       "54        3\n",
       "         ..\n",
       "193581    1\n",
       "193583    1\n",
       "193585    1\n",
       "193587    1\n",
       "193609    1\n",
       "Length: 5544, dtype: int64"
      ]
     },
     "execution_count": 3,
     "metadata": {},
     "output_type": "execute_result"
    }
   ],
   "source": [
    "movie_rating_count = ratings.groupby(\"movieId\").size()\n",
    "movie_rating_count[movie_rating_count.lt(4)]"
   ]
  },
  {
   "cell_type": "code",
   "execution_count": null,
   "metadata": {},
   "outputs": [],
   "source": [
    "movie_rating_count.plot(kind=\"hist\", xlim=(0, 350))"
   ]
  },
  {
   "cell_type": "code",
   "execution_count": 4,
   "metadata": {},
   "outputs": [],
   "source": [
    "remove_movie_id = movie_rating_count[movie_rating_count.lt(4)].index.values.tolist()"
   ]
  },
  {
   "cell_type": "code",
   "execution_count": 5,
   "metadata": {},
   "outputs": [],
   "source": [
    "new_ratings = ratings[~ratings.movieId.isin(remove_movie_id)]"
   ]
  },
  {
   "cell_type": "code",
   "execution_count": 6,
   "metadata": {},
   "outputs": [],
   "source": [
    "movieId = sorted(list(set(new_ratings[\"movieId\"])))\n",
    "# movieId_subset = movieId[:5000]\n",
    "# movieId_max = max(movieId_subset)\n",
    "# ratings_subset = ratings[ratings[\"movieId\"] <= movieId_max]"
   ]
  },
  {
   "cell_type": "code",
   "execution_count": null,
   "metadata": {},
   "outputs": [],
   "source": [
    "# user_data = list(ratings[\"userId\"])\n",
    "# ratings_data = list(ratings[\"rating\"])\n",
    "# item_data = list(ratings[\"movieId\"])\n",
    "\n",
    "# from scipy.sparse import csr_matrix\n",
    "# ratings_matrix = csr_matrix((ratings_data, (user_data, item_data)))"
   ]
  },
  {
   "attachments": {},
   "cell_type": "markdown",
   "metadata": {},
   "source": [
    "### Split to Train and Test Data"
   ]
  },
  {
   "cell_type": "code",
   "execution_count": 7,
   "metadata": {},
   "outputs": [],
   "source": [
    "# split data into train and test by userId\n",
    "from sklearn.model_selection import train_test_split\n",
    "train, test = train_test_split(new_ratings, test_size=0.2, random_state=3, stratify=new_ratings[\"movieId\"])"
   ]
  },
  {
   "cell_type": "code",
   "execution_count": 8,
   "metadata": {},
   "outputs": [
    {
     "data": {
      "text/plain": [
       "3"
      ]
     },
     "execution_count": 8,
     "metadata": {},
     "output_type": "execute_result"
    }
   ],
   "source": [
    "train_rating_count = train.groupby(\"movieId\").size()\n",
    "train_rating_count.min()"
   ]
  },
  {
   "cell_type": "code",
   "execution_count": 9,
   "metadata": {},
   "outputs": [],
   "source": [
    "from scipy.sparse import csr_matrix\n",
    "\n",
    "train_user_data = list(train[\"userId\"])\n",
    "train_ratings_data = list(train[\"rating\"])\n",
    "train_item_data = list(train[\"movieId\"])\n",
    "train_matrix = csr_matrix((train_ratings_data, (train_user_data, train_item_data)))\n",
    "\n",
    "test_user_data = list(test[\"userId\"])\n",
    "test_ratings_data = list(test[\"rating\"])\n",
    "test_item_data = list(test[\"movieId\"])\n",
    "test_matrix = csr_matrix((test_ratings_data, (test_user_data, test_item_data)))"
   ]
  },
  {
   "cell_type": "code",
   "execution_count": 10,
   "metadata": {},
   "outputs": [],
   "source": [
    "train_movieId = sorted(list(set(train_item_data)))\n",
    "test_movieId = sorted(list(set(test_item_data)))"
   ]
  },
  {
   "cell_type": "code",
   "execution_count": null,
   "metadata": {},
   "outputs": [],
   "source": [
    "# for i in movieId:\n",
    "#     if i not in train_movieId:\n",
    "#         print(i)\n",
    "# i = 90\n",
    "# train_movieId[train_movieId.index(i) + 1]\n",
    "\n",
    "# print(train_movieId)"
   ]
  },
  {
   "attachments": {},
   "cell_type": "markdown",
   "metadata": {},
   "source": [
    "### Cosine Similarity Computation"
   ]
  },
  {
   "cell_type": "code",
   "execution_count": null,
   "metadata": {},
   "outputs": [],
   "source": [
    "# cosine_sim_values = pd.DataFrame(np.nan, columns=[\"item1\", \"item2\", \"cosine_similarity\"])\n",
    "from sklearn.metrics.pairwise import cosine_similarity\n",
    "from tqdm.auto import trange\n",
    "\n",
    "cosine_sim_values = []\n",
    "# movieId = sorted(list(set(ratings[\"movieId\"])))\n",
    "\n",
    "for item1_index in trange(len(train_movieId), desc=\"1st loop\"):\n",
    "    i = train_movieId[item1_index]\n",
    "    for item2_index in range(item1_index + 1, len(train_movieId)):\n",
    "        j = train_movieId[item2_index]\n",
    "        target = train_matrix[:, [i, j]]\n",
    "        df = pd.DataFrame(target.toarray(), columns=[\"col1\", \"col2\"])\n",
    "        df = df.replace(0, np.nan)\n",
    "        df = df[~df.isnull().any(axis=1)]\n",
    "        if df.shape[0] > 2:\n",
    "            cos_sim = cosine_similarity(df[\"col1\"].values.reshape(1, -1), df[\"col2\"].values.reshape(1, -1))\n",
    "            dict = {\"item1\": i, \"item2\": j, \"cosine_similarity\": cos_sim[0][0]}\n",
    "            cosine_sim_values.append(dict)"
   ]
  },
  {
   "cell_type": "code",
   "execution_count": null,
   "metadata": {},
   "outputs": [],
   "source": [
    "cosine_sim_values = pd.DataFrame(cosine_sim_values)\n",
    "cosine_sim_values"
   ]
  },
  {
   "cell_type": "code",
   "execution_count": null,
   "metadata": {},
   "outputs": [],
   "source": [
    "cosine_sim_values[\"cosine_similarity\"].plot(kind=\"kde\")"
   ]
  },
  {
   "cell_type": "code",
   "execution_count": null,
   "metadata": {},
   "outputs": [],
   "source": [
    "cosine_sim_values.to_csv(\"train_cosine_similarity.csv\")"
   ]
  },
  {
   "cell_type": "code",
   "execution_count": null,
   "metadata": {},
   "outputs": [],
   "source": [
    "# target = train_matrix[:, [1, 1740]]\n",
    "# df = pd.DataFrame(target.toarray(), columns=[\"col1\", \"col2\"])\n",
    "# df = df.replace(0, np.nan)\n",
    "# df = df[~df.isnull().any(axis=1)]\n",
    "# df.shape[0]\n",
    "# if df.shape[0] >= 5:\n",
    "#     cos_sim = cosine_similarity(df[\"col1\"].values.reshape(1, -1), df[\"col2\"].values.reshape(1, -1))\n",
    "#     print(\"run\")\n",
    "# df.shape[0] < 5"
   ]
  },
  {
   "attachments": {},
   "cell_type": "markdown",
   "metadata": {},
   "source": [
    "### Correlation-based Similarity"
   ]
  },
  {
   "cell_type": "code",
   "execution_count": 21,
   "metadata": {},
   "outputs": [
    {
     "data": {
      "application/vnd.jupyter.widget-view+json": {
       "model_id": "c5d441fd99c84c12a952cf45532dabda",
       "version_major": 2,
       "version_minor": 0
      },
      "text/plain": [
       "1st loop:   0%|          | 0/4180 [00:00<?, ?it/s]"
      ]
     },
     "metadata": {},
     "output_type": "display_data"
    },
    {
     "ename": "KeyboardInterrupt",
     "evalue": "",
     "output_type": "error",
     "traceback": [
      "\u001b[1;31m---------------------------------------------------------------------------\u001b[0m",
      "\u001b[1;31mKeyboardInterrupt\u001b[0m                         Traceback (most recent call last)",
      "\u001b[1;32mc:\\Users\\renac\\Downloads\\NUS\\Y3S2\\STOR 565 Machine Learning\\Project\\stor565_proj\\exploratory_data_analysis\\ratings_similarity.ipynb Cell 22\u001b[0m in \u001b[0;36m<cell line: 9>\u001b[1;34m()\u001b[0m\n\u001b[0;32m     <a href='vscode-notebook-cell:/c%3A/Users/renac/Downloads/NUS/Y3S2/STOR%20565%20Machine%20Learning/Project/stor565_proj/exploratory_data_analysis/ratings_similarity.ipynb#X30sZmlsZQ%3D%3D?line=10'>11</a>\u001b[0m \u001b[39mfor\u001b[39;00m item2_index \u001b[39min\u001b[39;00m \u001b[39mrange\u001b[39m(item1_index \u001b[39m+\u001b[39m \u001b[39m1\u001b[39m, \u001b[39mlen\u001b[39m(train_movieId)):\n\u001b[0;32m     <a href='vscode-notebook-cell:/c%3A/Users/renac/Downloads/NUS/Y3S2/STOR%20565%20Machine%20Learning/Project/stor565_proj/exploratory_data_analysis/ratings_similarity.ipynb#X30sZmlsZQ%3D%3D?line=11'>12</a>\u001b[0m     j \u001b[39m=\u001b[39m train_movieId[item2_index]\n\u001b[1;32m---> <a href='vscode-notebook-cell:/c%3A/Users/renac/Downloads/NUS/Y3S2/STOR%20565%20Machine%20Learning/Project/stor565_proj/exploratory_data_analysis/ratings_similarity.ipynb#X30sZmlsZQ%3D%3D?line=12'>13</a>\u001b[0m     target \u001b[39m=\u001b[39m train_matrix[:, [i, j]]\n\u001b[0;32m     <a href='vscode-notebook-cell:/c%3A/Users/renac/Downloads/NUS/Y3S2/STOR%20565%20Machine%20Learning/Project/stor565_proj/exploratory_data_analysis/ratings_similarity.ipynb#X30sZmlsZQ%3D%3D?line=13'>14</a>\u001b[0m     df \u001b[39m=\u001b[39m pd\u001b[39m.\u001b[39mDataFrame(target\u001b[39m.\u001b[39mtoarray(), columns\u001b[39m=\u001b[39m[\u001b[39m\"\u001b[39m\u001b[39mcol1\u001b[39m\u001b[39m\"\u001b[39m, \u001b[39m\"\u001b[39m\u001b[39mcol2\u001b[39m\u001b[39m\"\u001b[39m])\n\u001b[0;32m     <a href='vscode-notebook-cell:/c%3A/Users/renac/Downloads/NUS/Y3S2/STOR%20565%20Machine%20Learning/Project/stor565_proj/exploratory_data_analysis/ratings_similarity.ipynb#X30sZmlsZQ%3D%3D?line=14'>15</a>\u001b[0m     df \u001b[39m=\u001b[39m df\u001b[39m.\u001b[39mreplace(\u001b[39m0\u001b[39m, np\u001b[39m.\u001b[39mnan)\n",
      "File \u001b[1;32mc:\\Users\\renac\\AppData\\Local\\Programs\\Python\\Python310\\lib\\site-packages\\scipy\\sparse\\_index.py:71\u001b[0m, in \u001b[0;36mIndexMixin.__getitem__\u001b[1;34m(self, key)\u001b[0m\n\u001b[0;32m     69\u001b[0m         \u001b[39mreturn\u001b[39;00m \u001b[39mself\u001b[39m\u001b[39m.\u001b[39m_get_sliceXslice(row, col)\n\u001b[0;32m     70\u001b[0m     \u001b[39melif\u001b[39;00m col\u001b[39m.\u001b[39mndim \u001b[39m==\u001b[39m \u001b[39m1\u001b[39m:\n\u001b[1;32m---> 71\u001b[0m         \u001b[39mreturn\u001b[39;00m \u001b[39mself\u001b[39;49m\u001b[39m.\u001b[39;49m_get_sliceXarray(row, col)\n\u001b[0;32m     72\u001b[0m     \u001b[39mraise\u001b[39;00m \u001b[39mIndexError\u001b[39;00m(\u001b[39m'\u001b[39m\u001b[39mindex results in >2 dimensions\u001b[39m\u001b[39m'\u001b[39m)\n\u001b[0;32m     73\u001b[0m \u001b[39melif\u001b[39;00m row\u001b[39m.\u001b[39mndim \u001b[39m==\u001b[39m \u001b[39m1\u001b[39m:\n",
      "File \u001b[1;32mc:\\Users\\renac\\AppData\\Local\\Programs\\Python\\Python310\\lib\\site-packages\\scipy\\sparse\\_csr.py:321\u001b[0m, in \u001b[0;36mcsr_matrix._get_sliceXarray\u001b[1;34m(self, row, col)\u001b[0m\n\u001b[0;32m    320\u001b[0m \u001b[39mdef\u001b[39;00m \u001b[39m_get_sliceXarray\u001b[39m(\u001b[39mself\u001b[39m, row, col):\n\u001b[1;32m--> 321\u001b[0m     \u001b[39mreturn\u001b[39;00m \u001b[39mself\u001b[39;49m\u001b[39m.\u001b[39;49m_major_slice(row)\u001b[39m.\u001b[39;49m_minor_index_fancy(col)\n",
      "File \u001b[1;32mc:\\Users\\renac\\AppData\\Local\\Programs\\Python\\Python310\\lib\\site-packages\\scipy\\sparse\\_compressed.py:777\u001b[0m, in \u001b[0;36m_cs_matrix._minor_index_fancy\u001b[1;34m(self, idx)\u001b[0m\n\u001b[0;32m    775\u001b[0m res_indices \u001b[39m=\u001b[39m np\u001b[39m.\u001b[39mempty(nnz, dtype\u001b[39m=\u001b[39midx_dtype)\n\u001b[0;32m    776\u001b[0m res_data \u001b[39m=\u001b[39m np\u001b[39m.\u001b[39mempty(nnz, dtype\u001b[39m=\u001b[39m\u001b[39mself\u001b[39m\u001b[39m.\u001b[39mdtype)\n\u001b[1;32m--> 777\u001b[0m csr_column_index2(col_order, col_offsets, \u001b[39mlen\u001b[39;49m(\u001b[39mself\u001b[39;49m\u001b[39m.\u001b[39;49mindices),\n\u001b[0;32m    778\u001b[0m                   \u001b[39mself\u001b[39;49m\u001b[39m.\u001b[39;49mindices, \u001b[39mself\u001b[39;49m\u001b[39m.\u001b[39;49mdata, res_indices, res_data)\n\u001b[0;32m    779\u001b[0m \u001b[39mreturn\u001b[39;00m \u001b[39mself\u001b[39m\u001b[39m.\u001b[39m\u001b[39m__class__\u001b[39m((res_data, res_indices, res_indptr),\n\u001b[0;32m    780\u001b[0m                       shape\u001b[39m=\u001b[39mnew_shape, copy\u001b[39m=\u001b[39m\u001b[39mFalse\u001b[39;00m)\n",
      "\u001b[1;31mKeyboardInterrupt\u001b[0m: "
     ]
    }
   ],
   "source": [
    "from sklearn.metrics import pairwise_distances\n",
    "from tqdm.auto import trange\n",
    "# import warnings\n",
    "\n",
    "# warnings.filterwarnings(\"error\")\n",
    "corr_sim_values = []\n",
    "# movieId = sorted(list(set(ratings[\"movieId\"])))\n",
    "\n",
    "for item1_index in trange(len(train_movieId), desc=\"1st loop\"):\n",
    "    i = train_movieId[item1_index]\n",
    "    for item2_index in range(item1_index + 1, len(train_movieId)):\n",
    "        j = train_movieId[item2_index]\n",
    "        target = train_matrix[:, [i, j]]\n",
    "        df = pd.DataFrame(target.toarray(), columns=[\"col1\", \"col2\"])\n",
    "        df = df.replace(0, np.nan)\n",
    "        df = df[~df.isnull().any(axis=1)]\n",
    "        if df.shape[0] > 2:\n",
    "            correlation = df[\"col1\"].corr(df[\"col2\"])\n",
    "            dict = {\"item1\": i, \"item2\": j, \"correlation\": correlation}\n",
    "            corr_sim_values.append(dict)\n",
    "            # warnings.warn(Warning())"
   ]
  },
  {
   "cell_type": "code",
   "execution_count": 20,
   "metadata": {},
   "outputs": [
    {
     "data": {
      "text/html": [
       "<div>\n",
       "<style scoped>\n",
       "    .dataframe tbody tr th:only-of-type {\n",
       "        vertical-align: middle;\n",
       "    }\n",
       "\n",
       "    .dataframe tbody tr th {\n",
       "        vertical-align: top;\n",
       "    }\n",
       "\n",
       "    .dataframe thead th {\n",
       "        text-align: right;\n",
       "    }\n",
       "</style>\n",
       "<table border=\"1\" class=\"dataframe\">\n",
       "  <thead>\n",
       "    <tr style=\"text-align: right;\">\n",
       "      <th></th>\n",
       "      <th>col1</th>\n",
       "      <th>col2</th>\n",
       "    </tr>\n",
       "  </thead>\n",
       "  <tbody>\n",
       "    <tr>\n",
       "      <th>492</th>\n",
       "      <td>4.0</td>\n",
       "      <td>4.0</td>\n",
       "    </tr>\n",
       "  </tbody>\n",
       "</table>\n",
       "</div>"
      ],
      "text/plain": [
       "     col1  col2\n",
       "492   4.0   4.0"
      ]
     },
     "execution_count": 20,
     "metadata": {},
     "output_type": "execute_result"
    }
   ],
   "source": [
    "# target = train_matrix[:, [1, 61]]\n",
    "# df = pd.DataFrame(target.toarray(), columns=[\"col1\", \"col2\"])\n",
    "# df = df.replace(0, np.nan)\n",
    "# df = df[~df.isnull().any(axis=1)]\n",
    "# correlation = df[\"col1\"].corr(df[\"col2\"])\n",
    "# dict = {\"item1\": i, \"item2\": j, \"correlation\": correlation}\n",
    "# df"
   ]
  },
  {
   "cell_type": "code",
   "execution_count": null,
   "metadata": {},
   "outputs": [],
   "source": [
    "corr_sim_values = pd.DataFrame(corr_sim_values)\n",
    "corr_sim_values"
   ]
  },
  {
   "cell_type": "code",
   "execution_count": null,
   "metadata": {},
   "outputs": [],
   "source": [
    "corr_sim_values[\"correlation\"].plot(kind=\"kde\")"
   ]
  },
  {
   "cell_type": "code",
   "execution_count": null,
   "metadata": {},
   "outputs": [],
   "source": [
    "corr_sim_values.to_csv(\"train_correlation_similarity.csv\")"
   ]
  },
  {
   "attachments": {},
   "cell_type": "markdown",
   "metadata": {},
   "source": [
    "### Adjusted-Cosine Similarity"
   ]
  },
  {
   "cell_type": "code",
   "execution_count": 25,
   "metadata": {},
   "outputs": [
    {
     "data": {
      "application/vnd.jupyter.widget-view+json": {
       "model_id": "3a92ba5920324240848d250995780b8e",
       "version_major": 2,
       "version_minor": 0
      },
      "text/plain": [
       "1st loop:   0%|          | 0/4180 [00:00<?, ?it/s]"
      ]
     },
     "metadata": {},
     "output_type": "display_data"
    }
   ],
   "source": [
    "from tqdm.auto import trange\n",
    "from math import sqrt\n",
    "# import warnings\n",
    "\n",
    "# warnings.filterwarnings(\"error\")\n",
    "adj_cosine_sim_values = []\n",
    "# movieId = sorted(list(set(ratings[\"movieId\"])))\n",
    "\n",
    "for item1_index in trange(len(train_movieId), desc=\"1st loop\"):\n",
    "    i = train_movieId[item1_index]\n",
    "    for item2_index in range(item1_index + 1, len(train_movieId)):\n",
    "        j = train_movieId[item2_index]\n",
    "        target = train_matrix[:, [i, j]]\n",
    "        df = pd.DataFrame(target.toarray(), columns=[\"col1\", \"col2\"])\n",
    "        df = df.replace(0, np.nan)\n",
    "        df = df[~df.isnull().any(axis=1)]\n",
    "        if df.shape[0] > 2:\n",
    "            df_userId = df.index.tolist()\n",
    "            df_user_ratings = train[train[\"userId\"].isin(df_userId)]\n",
    "            avg_user_ratings = df_user_ratings.groupby([\"userId\"]).mean()[\"rating\"]\n",
    "            df_sub_avg = df.sub(avg_user_ratings, axis=\"index\") # subtract user average\n",
    "            adj_cos = (df_sub_avg[\"col1\"]*df_sub_avg[\"col2\"]).sum()/(sqrt((df_sub_avg[\"col1\"]**2).sum())*sqrt((df_sub_avg[\"col2\"]**2).sum()))\n",
    "            dict = {\"item1\": i, \"item2\": j, \"adjusted_cosine_similarity\": adj_cos}\n",
    "            adj_cosine_sim_values.append(dict)"
   ]
  },
  {
   "cell_type": "code",
   "execution_count": 24,
   "metadata": {},
   "outputs": [
    {
     "data": {
      "text/html": [
       "<div>\n",
       "<style scoped>\n",
       "    .dataframe tbody tr th:only-of-type {\n",
       "        vertical-align: middle;\n",
       "    }\n",
       "\n",
       "    .dataframe tbody tr th {\n",
       "        vertical-align: top;\n",
       "    }\n",
       "\n",
       "    .dataframe thead th {\n",
       "        text-align: right;\n",
       "    }\n",
       "</style>\n",
       "<table border=\"1\" class=\"dataframe\">\n",
       "  <thead>\n",
       "    <tr style=\"text-align: right;\">\n",
       "      <th></th>\n",
       "      <th>col1</th>\n",
       "      <th>col2</th>\n",
       "    </tr>\n",
       "  </thead>\n",
       "  <tbody>\n",
       "  </tbody>\n",
       "</table>\n",
       "</div>"
      ],
      "text/plain": [
       "Empty DataFrame\n",
       "Columns: [col1, col2]\n",
       "Index: []"
      ]
     },
     "execution_count": 24,
     "metadata": {},
     "output_type": "execute_result"
    }
   ],
   "source": [
    "target = train_matrix[:, [1, 270]]\n",
    "df = pd.DataFrame(target.toarray(), columns=[\"col1\", \"col2\"])\n",
    "df = df.replace(0, np.nan)\n",
    "df = df[~df.isnull().any(axis=1)]\n",
    "df_userId = df.index.tolist()\n",
    "df_user_ratings = train[train[\"userId\"].isin(df_userId)]\n",
    "avg_user_ratings = df_user_ratings.groupby([\"userId\"]).mean()[\"rating\"]\n",
    "df_sub_avg = df.sub(avg_user_ratings, axis=\"index\") # subtract user average\n",
    "# adj_cos = (df_sub_avg[\"col1\"]*df_sub_avg[\"col2\"]).sum()/(sqrt((df_sub_avg[\"col1\"]**2).sum())*sqrt((df_sub_avg[\"col2\"]**2).sum()))\n",
    "df_sub_avg"
   ]
  },
  {
   "cell_type": "code",
   "execution_count": null,
   "metadata": {},
   "outputs": [],
   "source": [
    "adj_cosine_sim_values = pd.DataFrame(adj_cosine_sim_values)\n",
    "adj_cosine_sim_values"
   ]
  },
  {
   "cell_type": "code",
   "execution_count": null,
   "metadata": {},
   "outputs": [],
   "source": [
    "adj_cosine_sim_values[\"adjusted_cosine_similarity\"].plot(kind=\"kde\")"
   ]
  },
  {
   "cell_type": "code",
   "execution_count": null,
   "metadata": {},
   "outputs": [],
   "source": [
    "adj_cosine_sim_values.to_csv(\"train_adjusted_cosine_similarity.csv\")"
   ]
  },
  {
   "attachments": {},
   "cell_type": "markdown",
   "metadata": {},
   "source": [
    "## Try (ignore this section)"
   ]
  },
  {
   "cell_type": "code",
   "execution_count": null,
   "metadata": {},
   "outputs": [],
   "source": [
    "# without zero row and col since userId and movieId starts from 1\n",
    "from scipy.sparse import csr_matrix\n",
    "n_users = ratings.userId.max()\n",
    "n_movies = ratings.movieId.max()\n",
    "ratings_data = ratings.rating\n",
    "user_data = ratings.userId\n",
    "item_data = ratings.movieId\n",
    "adj_matrix = csr_matrix((ratings_data, (user_data - 1, item_data - 1)), shape = (n_users, n_movies))\n",
    "adj_matrix.shape"
   ]
  },
  {
   "cell_type": "code",
   "execution_count": null,
   "metadata": {},
   "outputs": [],
   "source": [
    "n_users = ratings.userId.unique().shape[0]\n",
    "n_items = ratings.movieId.unique().shape[0]"
   ]
  },
  {
   "cell_type": "code",
   "execution_count": null,
   "metadata": {},
   "outputs": [],
   "source": [
    "# change ratings to binary because of sparse dataset\n",
    "# 0 if rating <= 2.5, 1 if rating > 2.5\n",
    "# ratings[\"rating\"] = ratings[\"rating\"].gt(2.5).astype(\"int\")"
   ]
  },
  {
   "cell_type": "code",
   "execution_count": null,
   "metadata": {},
   "outputs": [],
   "source": [
    "user_rating_count = ratings.groupby(\"userId\").size()\n",
    "user_rating_count[user_rating_count.lt(20)]"
   ]
  },
  {
   "cell_type": "code",
   "execution_count": null,
   "metadata": {},
   "outputs": [],
   "source": [
    "movie_rating_count"
   ]
  },
  {
   "cell_type": "code",
   "execution_count": null,
   "metadata": {},
   "outputs": [],
   "source": [
    "remove_movie_id"
   ]
  },
  {
   "cell_type": "code",
   "execution_count": null,
   "metadata": {},
   "outputs": [],
   "source": [
    "new_ratings"
   ]
  },
  {
   "cell_type": "code",
   "execution_count": null,
   "metadata": {},
   "outputs": [],
   "source": []
  }
 ],
 "metadata": {
  "kernelspec": {
   "display_name": "Python 3",
   "language": "python",
   "name": "python3"
  },
  "language_info": {
   "codemirror_mode": {
    "name": "ipython",
    "version": 3
   },
   "file_extension": ".py",
   "mimetype": "text/x-python",
   "name": "python",
   "nbconvert_exporter": "python",
   "pygments_lexer": "ipython3",
   "version": "3.10.6"
  },
  "orig_nbformat": 4
 },
 "nbformat": 4,
 "nbformat_minor": 2
}
